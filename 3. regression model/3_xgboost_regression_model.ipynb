{
 "cells": [
  {
   "cell_type": "markdown",
   "metadata": {},
   "source": [
    "# Bike Rentals Prediction - Regression Model\n",
    "\n",
    "Build a model that predicts number of bike rentals on a particular day, given the parameters.\n",
    "\n",
    "Table of contents:\n",
    "1. Feature Engineering\n",
    "2. Hyperparameters Optimization"
   ]
  },
  {
   "cell_type": "code",
   "execution_count": null,
   "metadata": {
    "collapsed": true
   },
   "outputs": [],
   "source": [
    "import os\n",
    "os.chdir('..')"
   ]
  },
  {
   "cell_type": "code",
   "execution_count": 1,
   "metadata": {
    "collapsed": true
   },
   "outputs": [],
   "source": [
    "import warnings\n",
    "warnings.simplefilter(action='ignore', category=FutureWarning)\n",
    "\n",
    "import pandas as pd\n",
    "import numpy as np\n",
    "import matplotlib.pyplot as plt\n",
    "\n",
    "from sklearn.model_selection import train_test_split\n",
    "from sklearn.model_selection import cross_val_score\n",
    "from sklearn.metrics import mean_squared_error\n",
    "\n",
    "import xgboost as xgb\n",
    "import eli5\n",
    "from eli5.xgboost import explain_weights_xgboost\n",
    "import missingno as msno\n",
    "\n",
    "import functions as f\n",
    "\n",
    "np.random.seed(9)"
   ]
  },
  {
   "cell_type": "code",
   "execution_count": 2,
   "metadata": {
    "collapsed": true
   },
   "outputs": [],
   "source": [
    "def custom_rmse(model, X_test, y_test):\n",
    "    y_pred = model.predict(X_test)\n",
    "    y_pred[ y_pred < 0 ] = 0\n",
    "\n",
    "    return np.sqrt(mean_squared_error(y_test, y_pred))\n",
    "\n",
    "def custom_rmse_log(model, X_test, y_test):\n",
    "    y_pred = model.predict(X_test)\n",
    "    y_pred[ y_pred < 0 ] = 0\n",
    "\n",
    "    return np.sqrt(mean_squared_error(np.exp(y_test), np.exp(y_pred)))"
   ]
  },
  {
   "cell_type": "markdown",
   "metadata": {},
   "source": [
    "### Iterations summary\n",
    "\n",
    "In order to keep track of progress, the result of each iteration is stored in the table below.\n",
    "\n",
    "\n",
    "|iteration   |description   |result   | \n",
    "|---|---|---|\n",
    "|0   |baseline model   |3259   |\n",
    "|1   |all predictors, NA: -100   |2212   |\n",
    "|2   |all predictors, NA: -100, start: 2016   |1951   |\n",
    "|3   |all predictors, NA: -100, start: 2015   |1946   |\n",
    "|4   |all predictors, NA: -100, start: 2015, season & holiday as dummy   |~~1911~~   |\n",
    "|5   |all predictors, NA: -100, start: 2015, trends with log transform   |1945   |\n",
    "|6   |all predictors, NA: -100, start: 2015, trends with log transform, month as dummy   |1922   |\n",
    "|7   |all predictors, NA: -100, start: 2015, trends with log transform, month as dummy, if_fall   |~~1927~~   |\n",
    "|8   |all predictors, NA: -100, start: 2015, trends with log transform, month as dummy, weather amplitude   |~~1937~~   |\n",
    "|9   |all predictors, NA: -100, start: 2015, trends with log transform, month as dummy, month other   |1921   |\n",
    "|10   |all predictors, NA: -100, start: 2015, trends with log transform, month as dummy, month other, limit predictors|1914   |\n",
    "|11   |all predictors, NA: -100, start: 2015, trends with log transform, month as dummy, limit predictors   |1907\n",
    "|12   |hyperparameters optimization   |1854"
   ]
  },
  {
   "cell_type": "code",
   "execution_count": 3,
   "metadata": {
    "collapsed": false
   },
   "outputs": [],
   "source": [
    "df = pd.read_parquet('data/data_predictors.parquet')\n",
    "df['season'] = df['month'].apply(f.meteo_season)\n",
    "#df.sample(3)"
   ]
  },
  {
   "cell_type": "markdown",
   "metadata": {},
   "source": [
    "## Feature Engineering"
   ]
  },
  {
   "cell_type": "markdown",
   "metadata": {},
   "source": [
    "### Fill NA and set minimum start date\n",
    "\n",
    "- substitute all NaN values with -100 (number that doesn't occur in the dataset)\n",
    "- set starting date for 2015-01-01 to exclude old, irrelevant records"
   ]
  },
  {
   "cell_type": "code",
   "execution_count": 4,
   "metadata": {
    "collapsed": true
   },
   "outputs": [],
   "source": [
    "df = df[df['start_date_'] > '2015-01-01']\n",
    "df = df.fillna(-100)"
   ]
  },
  {
   "cell_type": "markdown",
   "metadata": {},
   "source": [
    "### Prepare categorical variables\n",
    "\n",
    "- Factorize: season and holiday\n",
    "- Use one-hot encoding for month variable\n",
    "- Tested variant: exclude *(Observed)* from holiday name - it didn't improve the result"
   ]
  },
  {
   "cell_type": "code",
   "execution_count": 5,
   "metadata": {
    "collapsed": true
   },
   "outputs": [],
   "source": [
    "df['season_f'] = pd.factorize(df['season'])[0]\n",
    "\n",
    "#df['holiday'] = df['holiday'].str.replace(' (Observed)','', regex=False)\n",
    "df['holiday_f'] = pd.factorize(df['holiday'])[0]\n",
    "holidays_dict = pd.factorize(df['holiday'])[1]"
   ]
  },
  {
   "cell_type": "code",
   "execution_count": 6,
   "metadata": {
    "collapsed": false
   },
   "outputs": [],
   "source": [
    "df = pd.concat([df, pd.get_dummies(df['month'], prefix='month')], axis=1)"
   ]
  },
  {
   "cell_type": "markdown",
   "metadata": {},
   "source": [
    "### Transform data\n",
    "\n",
    "Use logaritmic transformation to re-calculate 'cb_trend' and 'bikerental_trend'"
   ]
  },
  {
   "cell_type": "code",
   "execution_count": 7,
   "metadata": {
    "collapsed": false
   },
   "outputs": [],
   "source": [
    "log_cols = ['cb_trend', 'bikerental_trend']"
   ]
  },
  {
   "cell_type": "code",
   "execution_count": 8,
   "metadata": {
    "collapsed": false
   },
   "outputs": [
    {
     "name": "stderr",
     "output_type": "stream",
     "text": [
      "C:\\Users\\Klaudia\\Anaconda3\\envs\\bikerental\\lib\\site-packages\\ipykernel_launcher.py:4: RuntimeWarning: invalid value encountered in log\n",
      "  after removing the cwd from sys.path.\n"
     ]
    }
   ],
   "source": [
    "for i in range(len(log_cols)):\n",
    "    col = log_cols[i]\n",
    "    colname = col + '_log'\n",
    "    df[colname] = np.log(df[col] + 0.00001)"
   ]
  },
  {
   "cell_type": "markdown",
   "metadata": {},
   "source": [
    "### Aplitude\n",
    "\n",
    "Tested variant: Instead of using both min and max value, use aplitute (calculated and tested for all continuous weather-related features)"
   ]
  },
  {
   "cell_type": "code",
   "execution_count": 9,
   "metadata": {
    "collapsed": false
   },
   "outputs": [],
   "source": [
    "#ampl_features = ['wind', 'pressure']\n",
    "\n",
    "#for feature in ampl_features:\n",
    "#    df[feature + '_amp'] = df[feature + '_max'] - df[feature + '_min']"
   ]
  },
  {
   "cell_type": "markdown",
   "metadata": {},
   "source": [
    "### Group less popular months\n",
    "\n",
    "- select months with low feature importance and exclude them\n",
    "- tested variant: replace months with low predictive value with 'other'"
   ]
  },
  {
   "cell_type": "code",
   "execution_count": 10,
   "metadata": {
    "collapsed": false
   },
   "outputs": [],
   "source": [
    "other_months = ['month_8', 'month_6', 'month_9', 'month_10', 'month_3', 'month_2', 'month_5', 'month_11', 'month_1', 'month_7', 'month12']\n",
    "#df['month_other'] = df[other_months].sum(axis=1)"
   ]
  },
  {
   "cell_type": "markdown",
   "metadata": {},
   "source": [
    "### Prepare X and y\n",
    "\n",
    "- define target values (y)\n",
    "- select columns containing numeric values\n",
    "- exclude several columns from predictors' list (black list)"
   ]
  },
  {
   "cell_type": "code",
   "execution_count": 11,
   "metadata": {
    "collapsed": true
   },
   "outputs": [],
   "source": [
    "y = df['rentals_count_sum'].values\n",
    "\n",
    "selected_features = list(df.select_dtypes(include=[np.number, np.bool]).columns)\n",
    "black_list = ['rentals_count_sum', 'start_date', 'visits', 'wind_min', 'pressure_min'] + log_cols + other_months\n",
    "selected_features = [feat for feat in selected_features if feat not in black_list]\n",
    "\n",
    "X = df[selected_features].values"
   ]
  },
  {
   "cell_type": "code",
   "execution_count": 12,
   "metadata": {
    "collapsed": false
   },
   "outputs": [
    {
     "data": {
      "text/plain": [
       "['temperature_max',\n",
       " 'temperature_min',\n",
       " 'temperature_mean',\n",
       " 'relative_temperature_max',\n",
       " 'relative_temperature_min',\n",
       " 'relative_temperature_mean',\n",
       " 'wind_max',\n",
       " 'wind_mean',\n",
       " 'pressure_max',\n",
       " 'pressure_mean',\n",
       " 'rain_sum',\n",
       " 'snow_sum',\n",
       " 'thunder_sum',\n",
       " 'clouds_cloudy_sum',\n",
       " 'clouds_partly cloudy_sum',\n",
       " 'clouds_clear_sum',\n",
       " 'month',\n",
       " 'weekday',\n",
       " 'desktop_share',\n",
       " 'visit_duration',\n",
       " 'pages_visit',\n",
       " 'bounce_rate',\n",
       " 'pageviews_total',\n",
       " 'season_f',\n",
       " 'holiday_f',\n",
       " 'month_4',\n",
       " 'month_12',\n",
       " 'cb_trend_log',\n",
       " 'bikerental_trend_log']"
      ]
     },
     "execution_count": 12,
     "metadata": {},
     "output_type": "execute_result"
    }
   ],
   "source": [
    "selected_features"
   ]
  },
  {
   "cell_type": "markdown",
   "metadata": {},
   "source": [
    "### Train-Test split\n",
    "\n",
    "- Divide data into train & test split.\n",
    "- Use cross validation on training set to optimize model performance.\n",
    "- Use test set to check final results of the model."
   ]
  },
  {
   "cell_type": "code",
   "execution_count": 13,
   "metadata": {
    "collapsed": true
   },
   "outputs": [],
   "source": [
    "X_train, X_test, y_train, y_test = train_test_split(X, y, test_size=0.2, random_state=9)"
   ]
  },
  {
   "cell_type": "code",
   "execution_count": 14,
   "metadata": {
    "collapsed": false
   },
   "outputs": [
    {
     "data": {
      "text/plain": [
       "(1907.578565715249, 112.94135542061892)"
      ]
     },
     "execution_count": 14,
     "metadata": {},
     "output_type": "execute_result"
    }
   ],
   "source": [
    "model_xgboost = xgb.XGBRegressor(objective='reg:squarederror')\n",
    "scores = cross_val_score(model_xgboost, X_train, y_train, cv=5, scoring=custom_rmse)\n",
    "np.mean(scores), np.std(scores)"
   ]
  },
  {
   "cell_type": "markdown",
   "metadata": {},
   "source": [
    "The table below shows feature importances calculated based on average gain of the feature when it is used in trees. Temperature is very important predictor for the model. Other important features are: season, number of hours with thunder and trends from Google Trends for query: *Capital Bikeshare*."
   ]
  },
  {
   "cell_type": "code",
   "execution_count": 15,
   "metadata": {
    "collapsed": false
   },
   "outputs": [
    {
     "data": {
      "text/html": [
       "\n",
       "    <style>\n",
       "    table.eli5-weights tr:hover {\n",
       "        filter: brightness(85%);\n",
       "    }\n",
       "</style>\n",
       "\n",
       "\n",
       "\n",
       "    \n",
       "\n",
       "    \n",
       "\n",
       "    \n",
       "\n",
       "    \n",
       "\n",
       "    \n",
       "\n",
       "    \n",
       "\n",
       "\n",
       "    \n",
       "\n",
       "    \n",
       "\n",
       "    \n",
       "\n",
       "    \n",
       "\n",
       "    \n",
       "\n",
       "    \n",
       "\n",
       "\n",
       "    \n",
       "\n",
       "    \n",
       "\n",
       "    \n",
       "\n",
       "    \n",
       "\n",
       "    \n",
       "        <table class=\"eli5-weights eli5-feature-importances\" style=\"border-collapse: collapse; border: none; margin-top: 0em; table-layout: auto;\">\n",
       "    <thead>\n",
       "    <tr style=\"border: none;\">\n",
       "        <th style=\"padding: 0 1em 0 0.5em; text-align: right; border: none;\">Weight</th>\n",
       "        <th style=\"padding: 0 0.5em 0 0.5em; text-align: left; border: none;\">Feature</th>\n",
       "    </tr>\n",
       "    </thead>\n",
       "    <tbody>\n",
       "    \n",
       "        <tr style=\"background-color: hsl(120, 100.00%, 80.00%); border: none;\">\n",
       "            <td style=\"padding: 0 1em 0 0.5em; text-align: right; border: none;\">\n",
       "                0.3527\n",
       "                \n",
       "            </td>\n",
       "            <td style=\"padding: 0 0.5em 0 0.5em; text-align: left; border: none;\">\n",
       "                relative_temperature_mean\n",
       "            </td>\n",
       "        </tr>\n",
       "    \n",
       "        <tr style=\"background-color: hsl(120, 100.00%, 88.06%); border: none;\">\n",
       "            <td style=\"padding: 0 1em 0 0.5em; text-align: right; border: none;\">\n",
       "                0.1688\n",
       "                \n",
       "            </td>\n",
       "            <td style=\"padding: 0 0.5em 0 0.5em; text-align: left; border: none;\">\n",
       "                temperature_mean\n",
       "            </td>\n",
       "        </tr>\n",
       "    \n",
       "        <tr style=\"background-color: hsl(120, 100.00%, 91.39%); border: none;\">\n",
       "            <td style=\"padding: 0 1em 0 0.5em; text-align: right; border: none;\">\n",
       "                0.1057\n",
       "                \n",
       "            </td>\n",
       "            <td style=\"padding: 0 0.5em 0 0.5em; text-align: left; border: none;\">\n",
       "                temperature_max\n",
       "            </td>\n",
       "        </tr>\n",
       "    \n",
       "        <tr style=\"background-color: hsl(120, 100.00%, 95.40%); border: none;\">\n",
       "            <td style=\"padding: 0 1em 0 0.5em; text-align: right; border: none;\">\n",
       "                0.0432\n",
       "                \n",
       "            </td>\n",
       "            <td style=\"padding: 0 0.5em 0 0.5em; text-align: left; border: none;\">\n",
       "                season_f\n",
       "            </td>\n",
       "        </tr>\n",
       "    \n",
       "        <tr style=\"background-color: hsl(120, 100.00%, 96.04%); border: none;\">\n",
       "            <td style=\"padding: 0 1em 0 0.5em; text-align: right; border: none;\">\n",
       "                0.0349\n",
       "                \n",
       "            </td>\n",
       "            <td style=\"padding: 0 0.5em 0 0.5em; text-align: left; border: none;\">\n",
       "                thunder_sum\n",
       "            </td>\n",
       "        </tr>\n",
       "    \n",
       "        <tr style=\"background-color: hsl(120, 100.00%, 96.66%); border: none;\">\n",
       "            <td style=\"padding: 0 1em 0 0.5em; text-align: right; border: none;\">\n",
       "                0.0274\n",
       "                \n",
       "            </td>\n",
       "            <td style=\"padding: 0 0.5em 0 0.5em; text-align: left; border: none;\">\n",
       "                cb_trend_log\n",
       "            </td>\n",
       "        </tr>\n",
       "    \n",
       "        <tr style=\"background-color: hsl(120, 100.00%, 96.78%); border: none;\">\n",
       "            <td style=\"padding: 0 1em 0 0.5em; text-align: right; border: none;\">\n",
       "                0.0260\n",
       "                \n",
       "            </td>\n",
       "            <td style=\"padding: 0 0.5em 0 0.5em; text-align: left; border: none;\">\n",
       "                temperature_min\n",
       "            </td>\n",
       "        </tr>\n",
       "    \n",
       "        <tr style=\"background-color: hsl(120, 100.00%, 97.04%); border: none;\">\n",
       "            <td style=\"padding: 0 1em 0 0.5em; text-align: right; border: none;\">\n",
       "                0.0231\n",
       "                \n",
       "            </td>\n",
       "            <td style=\"padding: 0 0.5em 0 0.5em; text-align: left; border: none;\">\n",
       "                clouds_cloudy_sum\n",
       "            </td>\n",
       "        </tr>\n",
       "    \n",
       "        <tr style=\"background-color: hsl(120, 100.00%, 97.16%); border: none;\">\n",
       "            <td style=\"padding: 0 1em 0 0.5em; text-align: right; border: none;\">\n",
       "                0.0217\n",
       "                \n",
       "            </td>\n",
       "            <td style=\"padding: 0 0.5em 0 0.5em; text-align: left; border: none;\">\n",
       "                relative_temperature_min\n",
       "            </td>\n",
       "        </tr>\n",
       "    \n",
       "        <tr style=\"background-color: hsl(120, 100.00%, 97.42%); border: none;\">\n",
       "            <td style=\"padding: 0 1em 0 0.5em; text-align: right; border: none;\">\n",
       "                0.0189\n",
       "                \n",
       "            </td>\n",
       "            <td style=\"padding: 0 0.5em 0 0.5em; text-align: left; border: none;\">\n",
       "                pageviews_total\n",
       "            </td>\n",
       "        </tr>\n",
       "    \n",
       "        <tr style=\"background-color: hsl(120, 100.00%, 97.59%); border: none;\">\n",
       "            <td style=\"padding: 0 1em 0 0.5em; text-align: right; border: none;\">\n",
       "                0.0171\n",
       "                \n",
       "            </td>\n",
       "            <td style=\"padding: 0 0.5em 0 0.5em; text-align: left; border: none;\">\n",
       "                desktop_share\n",
       "            </td>\n",
       "        </tr>\n",
       "    \n",
       "        <tr style=\"background-color: hsl(120, 100.00%, 97.70%); border: none;\">\n",
       "            <td style=\"padding: 0 1em 0 0.5em; text-align: right; border: none;\">\n",
       "                0.0161\n",
       "                \n",
       "            </td>\n",
       "            <td style=\"padding: 0 0.5em 0 0.5em; text-align: left; border: none;\">\n",
       "                rain_sum\n",
       "            </td>\n",
       "        </tr>\n",
       "    \n",
       "        <tr style=\"background-color: hsl(120, 100.00%, 97.85%); border: none;\">\n",
       "            <td style=\"padding: 0 1em 0 0.5em; text-align: right; border: none;\">\n",
       "                0.0146\n",
       "                \n",
       "            </td>\n",
       "            <td style=\"padding: 0 0.5em 0 0.5em; text-align: left; border: none;\">\n",
       "                clouds_partly cloudy_sum\n",
       "            </td>\n",
       "        </tr>\n",
       "    \n",
       "        <tr style=\"background-color: hsl(120, 100.00%, 98.04%); border: none;\">\n",
       "            <td style=\"padding: 0 1em 0 0.5em; text-align: right; border: none;\">\n",
       "                0.0128\n",
       "                \n",
       "            </td>\n",
       "            <td style=\"padding: 0 0.5em 0 0.5em; text-align: left; border: none;\">\n",
       "                month\n",
       "            </td>\n",
       "        </tr>\n",
       "    \n",
       "        <tr style=\"background-color: hsl(120, 100.00%, 98.15%); border: none;\">\n",
       "            <td style=\"padding: 0 1em 0 0.5em; text-align: right; border: none;\">\n",
       "                0.0118\n",
       "                \n",
       "            </td>\n",
       "            <td style=\"padding: 0 0.5em 0 0.5em; text-align: left; border: none;\">\n",
       "                holiday_f\n",
       "            </td>\n",
       "        </tr>\n",
       "    \n",
       "        <tr style=\"background-color: hsl(120, 100.00%, 98.15%); border: none;\">\n",
       "            <td style=\"padding: 0 1em 0 0.5em; text-align: right; border: none;\">\n",
       "                0.0117\n",
       "                \n",
       "            </td>\n",
       "            <td style=\"padding: 0 0.5em 0 0.5em; text-align: left; border: none;\">\n",
       "                weekday\n",
       "            </td>\n",
       "        </tr>\n",
       "    \n",
       "        <tr style=\"background-color: hsl(120, 100.00%, 98.28%); border: none;\">\n",
       "            <td style=\"padding: 0 1em 0 0.5em; text-align: right; border: none;\">\n",
       "                0.0106\n",
       "                \n",
       "            </td>\n",
       "            <td style=\"padding: 0 0.5em 0 0.5em; text-align: left; border: none;\">\n",
       "                wind_mean\n",
       "            </td>\n",
       "        </tr>\n",
       "    \n",
       "        <tr style=\"background-color: hsl(120, 100.00%, 98.30%); border: none;\">\n",
       "            <td style=\"padding: 0 1em 0 0.5em; text-align: right; border: none;\">\n",
       "                0.0104\n",
       "                \n",
       "            </td>\n",
       "            <td style=\"padding: 0 0.5em 0 0.5em; text-align: left; border: none;\">\n",
       "                bounce_rate\n",
       "            </td>\n",
       "        </tr>\n",
       "    \n",
       "        <tr style=\"background-color: hsl(120, 100.00%, 98.32%); border: none;\">\n",
       "            <td style=\"padding: 0 1em 0 0.5em; text-align: right; border: none;\">\n",
       "                0.0102\n",
       "                \n",
       "            </td>\n",
       "            <td style=\"padding: 0 0.5em 0 0.5em; text-align: left; border: none;\">\n",
       "                month_4\n",
       "            </td>\n",
       "        </tr>\n",
       "    \n",
       "        <tr style=\"background-color: hsl(120, 100.00%, 98.33%); border: none;\">\n",
       "            <td style=\"padding: 0 1em 0 0.5em; text-align: right; border: none;\">\n",
       "                0.0102\n",
       "                \n",
       "            </td>\n",
       "            <td style=\"padding: 0 0.5em 0 0.5em; text-align: left; border: none;\">\n",
       "                wind_max\n",
       "            </td>\n",
       "        </tr>\n",
       "    \n",
       "    \n",
       "        \n",
       "            <tr style=\"background-color: hsl(120, 100.00%, 98.33%); border: none;\">\n",
       "                <td colspan=\"2\" style=\"padding: 0 0.5em 0 0.5em; text-align: center; border: none; white-space: nowrap;\">\n",
       "                    <i>&hellip; 9 more &hellip;</i>\n",
       "                </td>\n",
       "            </tr>\n",
       "        \n",
       "    \n",
       "    </tbody>\n",
       "</table>\n",
       "    \n",
       "\n",
       "    \n",
       "\n",
       "\n",
       "    \n",
       "\n",
       "    \n",
       "\n",
       "    \n",
       "\n",
       "    \n",
       "\n",
       "    \n",
       "\n",
       "    \n",
       "\n",
       "\n",
       "\n"
      ],
      "text/plain": [
       "Explanation(estimator=\"XGBRegressor(base_score=0.5, booster='gbtree', colsample_bylevel=1,\\n             colsample_bynode=1, colsample_bytree=1, gamma=0,\\n             importance_type='gain', learning_rate=0.1, max_delta_step=0,\\n             max_depth=3, min_child_weight=1, missing=None, n_estimators=100,\\n             n_jobs=1, nthread=None, objective='reg:squarederror',\\n             random_state=0, reg_alpha=0, reg_lambda=1, scale_pos_weight=1,\\n             seed=None, silent=None, subsample=1, verbosity=1)\", description='\\nXGBoost feature importances; values are numbers 0 <= x <= 1;\\nall values sum to 1.\\n', error=None, method='feature importances', is_regression=True, targets=None, feature_importances=FeatureImportances(importances=[FeatureWeight(feature='relative_temperature_mean', weight=0.35266948, std=None, value=None), FeatureWeight(feature='temperature_mean', weight=0.16877677, std=None, value=None), FeatureWeight(feature='temperature_max', weight=0.10573193, std=None, value=None), FeatureWeight(feature='season_f', weight=0.043184936, std=None, value=None), FeatureWeight(feature='thunder_sum', weight=0.03486302, std=None, value=None), FeatureWeight(feature='cb_trend_log', weight=0.027395269, std=None, value=None), FeatureWeight(feature='temperature_min', weight=0.025951033, std=None, value=None), FeatureWeight(feature='clouds_cloudy_sum', weight=0.023061275, std=None, value=None), FeatureWeight(feature='relative_temperature_min', weight=0.021704938, std=None, value=None), FeatureWeight(feature='pageviews_total', weight=0.018893726, std=None, value=None), FeatureWeight(feature='desktop_share', weight=0.01712631, std=None, value=None), FeatureWeight(feature='rain_sum', weight=0.016089663, std=None, value=None), FeatureWeight(feature='clouds_partly cloudy_sum', weight=0.01461384, std=None, value=None), FeatureWeight(feature='month', weight=0.012802366, std=None, value=None), FeatureWeight(feature='holiday_f', weight=0.011758217, std=None, value=None), FeatureWeight(feature='weekday', weight=0.011740757, std=None, value=None), FeatureWeight(feature='wind_mean', weight=0.010590997, std=None, value=None), FeatureWeight(feature='bounce_rate', weight=0.010412527, std=None, value=None), FeatureWeight(feature='month_4', weight=0.0102064805, std=None, value=None), FeatureWeight(feature='wind_max', weight=0.010176235, std=None, value=None)], remaining=9), decision_tree=None, highlight_spaces=None, transition_features=None)"
      ]
     },
     "execution_count": 15,
     "metadata": {},
     "output_type": "execute_result"
    }
   ],
   "source": [
    "model_xgboost.fit(X_train, y_train)\n",
    "explain_weights_xgboost(model_xgboost, feature_names=selected_features, importance_type='gain', top=20)"
   ]
  },
  {
   "cell_type": "markdown",
   "metadata": {
    "collapsed": true
   },
   "source": [
    "## Hyperparameters tuning\n",
    "\n",
    "There are two methods used:\n",
    "- finding the best performing parameters with Python loop\n",
    "- finding hyperparameters with hyperopt package\n",
    "\n",
    "The first solution gave better results."
   ]
  },
  {
   "cell_type": "code",
   "execution_count": 16,
   "metadata": {
    "collapsed": false
   },
   "outputs": [
    {
     "name": "stdout",
     "output_type": "stream",
     "text": [
      "2 1 0.05 2065.0425611482656\n",
      "2 1 0.125 1934.0995256538718\n",
      "2 1 0.2 1890.9982330776704\n",
      "2 1 0.35 1883.0311014833096\n",
      "2 3 0.27499999999999997 1854.4580181244448\n"
     ]
    }
   ],
   "source": [
    "max_depth = np.arange(2,6)\n",
    "min_child_weight = np.arange(1,11,2)\n",
    "learning_rate = np.linspace(0.05,0.5,7)\n",
    "\n",
    "max_score = 10000\n",
    "\n",
    "for d in max_depth:\n",
    "    for c in min_child_weight:\n",
    "        for l in learning_rate:\n",
    "\n",
    "            model_xgboost = xgb.XGBRegressor(max_depth=d, min_child_weight=c, learning_rate=l, objective='reg:squarederror')\n",
    "            scores = cross_val_score(model_xgboost, X_train, y_train, cv=5, scoring=custom_rmse)\n",
    "            \n",
    "            new_score = np.mean(scores)\n",
    "            if new_score < max_score:\n",
    "                max_score = new_score\n",
    "                print(d, c, l, new_score)"
   ]
  },
  {
   "cell_type": "code",
   "execution_count": 17,
   "metadata": {
    "collapsed": false
   },
   "outputs": [],
   "source": [
    "from functools import partial\n",
    "from hyperopt import hp\n",
    "from hyperopt import hp, fmin, tpe, STATUS_OK, Trials"
   ]
  },
  {
   "cell_type": "code",
   "execution_count": 18,
   "metadata": {
    "collapsed": false
   },
   "outputs": [
    {
     "name": "stdout",
     "output_type": "stream",
     "text": [
      "mean score: 2043.9683628434734, std score: 142.6087728849027                                                           \n",
      "mean score: 1995.584938339801, std score: 187.4112813357665                                                            \n",
      "mean score: 1995.6114160671816, std score: 165.0929515967763                                                           \n",
      "mean score: 2076.1814189719594, std score: 174.90806605172241                                                          \n",
      "mean score: 2187.4810815078695, std score: 153.48757492645825                                                          \n",
      "mean score: 2207.8372665853863, std score: 284.2234863636246                                                           \n",
      "mean score: 2064.2773592603116, std score: 198.13255109736392                                                          \n",
      "mean score: 2118.707334864782, std score: 150.39107100401696                                                           \n",
      "mean score: 2116.5271058632, std score: 175.01976511202795                                                             \n",
      "mean score: 1978.155083857656, std score: 167.62570757631516                                                           \n",
      "mean score: 2083.8725573806905, std score: 238.8645851607819                                                           \n",
      "mean score: 2204.3423372237107, std score: 182.72216927445652                                                          \n",
      "mean score: 2056.0548995030254, std score: 221.8640345363371                                                           \n",
      "mean score: 2035.4450826766124, std score: 190.81213179839992                                                          \n",
      "mean score: 2043.7125955446527, std score: 160.87848144457968                                                          \n",
      "100%|████████████████████████████████████████████████████| 15/15 [00:37<00:00,  2.58s/it, best loss: 1978.155083857656]\n",
      "The best params:  {'x_colsample_bytree': 0.930493817717498, 'x_learning_rate': 0.10887000041573139, 'x_max_depth': 4.0, 'x_min_child_weight': 4.0, 'x_reg_alpha': 2.6580557837986056, 'x_reg_lambda': 0.8788541747943105, 'x_subsample': 0.9265459438949466}\n"
     ]
    }
   ],
   "source": [
    "def objective(space):\n",
    "    \n",
    "    xgb_params = {\n",
    "        'max_depth': int(space['max_depth']),\n",
    "        'colsample_bytree': space['colsample_bytree'],\n",
    "        'learning_rate': space['learning_rate'],\n",
    "        'subsample': space['subsample'],\n",
    "        #'seed': int(space['seed']),\n",
    "        'min_child_weight': int(space['min_child_weight']),\n",
    "        'reg_alpha': space['reg_alpha'],\n",
    "        'reg_lambda': space['reg_lambda'],\n",
    "        'n_estimators': 100\n",
    "    }\n",
    "\n",
    "    scores = cross_val_score(xgb.XGBRegressor(objective='reg:squarederror', **xgb_params), X, y, cv=3, scoring=custom_rmse)\n",
    "    mean_score = np.mean(scores)\n",
    "    \n",
    "    print(\"mean score: {0}, std score: {1}\".format(mean_score, np.std(scores)))\n",
    "    \n",
    "    return{'loss':mean_score, 'status': STATUS_OK }\n",
    "    \n",
    "space ={\n",
    "    'max_depth': hp.quniform ('x_max_depth', 1, 10, 1),\n",
    "    'colsample_bytree': hp.uniform ('x_colsample_bytree', 0.8, 1.),\n",
    "    'learning_rate': hp.uniform ('x_learning_rate', 0.05, 0.3),\n",
    "    'subsample': hp.uniform ('x_subsample', 0.7, 1.),\n",
    "    #'seed': hp.quniform ('x_seed', 0, 10000, 50),\n",
    "    'min_child_weight': hp.quniform ('x_min_child_weight', 1, 10, 1),\n",
    "    'reg_alpha': hp.loguniform ('x_reg_alpha', 0., 1.),\n",
    "    'reg_lambda': hp.uniform ('x_reg_lambda', 0.7, 1.),\n",
    "}\n",
    "\n",
    "\n",
    "trials = Trials()\n",
    "best_params = fmin(fn=objective,\n",
    "            space=space,\n",
    "            algo=partial(tpe.suggest, n_startup_jobs=5),\n",
    "            max_evals=15,\n",
    "            trials=trials)\n",
    "\n",
    "print(\"The best params: \", best_params)"
   ]
  },
  {
   "cell_type": "markdown",
   "metadata": {
    "collapsed": true
   },
   "source": [
    "## Train & Evaluate Final Model\n",
    "\n",
    "Train final model on train set and check prediction on test set."
   ]
  },
  {
   "cell_type": "code",
   "execution_count": 19,
   "metadata": {
    "collapsed": false
   },
   "outputs": [
    {
     "data": {
      "text/plain": [
       "XGBRegressor(base_score=0.5, booster='gbtree', colsample_bylevel=1,\n",
       "             colsample_bynode=1, colsample_bytree=1, gamma=0,\n",
       "             importance_type='gain', learning_rate=0.27499999999999997,\n",
       "             max_delta_step=0, max_depth=2, min_child_weight=3, missing=None,\n",
       "             n_estimators=100, n_jobs=1, nthread=None,\n",
       "             objective='reg:squarederror', random_state=0, reg_alpha=0,\n",
       "             reg_lambda=1, scale_pos_weight=1, seed=None, silent=None,\n",
       "             subsample=1, verbosity=1)"
      ]
     },
     "execution_count": 19,
     "metadata": {},
     "output_type": "execute_result"
    }
   ],
   "source": [
    "model_xgboost = xgb.XGBRegressor(max_depth=2, min_child_weight=3, learning_rate=0.27499999999999997, objective='reg:squarederror')\n",
    "model_xgboost.fit(X_train, y_train)"
   ]
  },
  {
   "cell_type": "code",
   "execution_count": 20,
   "metadata": {
    "collapsed": false
   },
   "outputs": [
    {
     "data": {
      "text/plain": [
       "1516.2612761731884"
      ]
     },
     "execution_count": 20,
     "metadata": {},
     "output_type": "execute_result"
    }
   ],
   "source": [
    "custom_rmse(model_xgboost, X_test, y_test)"
   ]
  },
  {
   "cell_type": "code",
   "execution_count": 63,
   "metadata": {
    "collapsed": false
   },
   "outputs": [],
   "source": [
    "random_choice = np.random.choice(X_test.shape[0],1) #np.array([238])"
   ]
  },
  {
   "cell_type": "code",
   "execution_count": 64,
   "metadata": {
    "collapsed": false
   },
   "outputs": [],
   "source": [
    "df_random_choice = pd.DataFrame(X_test[random_choice], columns=selected_features)"
   ]
  },
  {
   "cell_type": "markdown",
   "metadata": {},
   "source": [
    "Information about input and predicted bike rentals number:"
   ]
  },
  {
   "cell_type": "code",
   "execution_count": 65,
   "metadata": {
    "collapsed": false
   },
   "outputs": [
    {
     "name": "stdout",
     "output_type": "stream",
     "text": [
      "Month: 10\n",
      "Weekday (0-Mon, 6-Sun): 0\n",
      "Min temperature: 13\n",
      "Max temperature: 23\n",
      "Hours of rain: 5\n",
      "Holiday: -100\n"
     ]
    }
   ],
   "source": [
    "print('Month: %d' % df_random_choice['month'][0])\n",
    "print('Weekday (0-Mon, 6-Sun): %d' % df_random_choice['weekday'][0])\n",
    "print('Min temperature: %d' % df_random_choice['temperature_min'][0])\n",
    "print('Max temperature: %d' % df_random_choice['temperature_max'][0])\n",
    "print('Hours of rain: %d' % df_random_choice['rain_sum'][0])\n",
    "print('Holiday: %d' % holidays_dict[df_random_choice['holiday_f'][0]])"
   ]
  },
  {
   "cell_type": "code",
   "execution_count": 66,
   "metadata": {
    "collapsed": false
   },
   "outputs": [
    {
     "name": "stdout",
     "output_type": "stream",
     "text": [
      "number of bike rentals \n",
      "predicted: 10348\n",
      "actual:  10208\n"
     ]
    }
   ],
   "source": [
    "print('number of bike rentals ')\n",
    "print('predicted: %d' % model_xgboost.predict(X_test[random_choice])[0])\n",
    "print('actual: ', y_test[random_choice][0])"
   ]
  },
  {
   "cell_type": "code",
   "execution_count": null,
   "metadata": {
    "collapsed": true
   },
   "outputs": [],
   "source": []
  }
 ],
 "metadata": {
  "kernelspec": {
   "display_name": "Bike Rental",
   "language": "python",
   "name": "bikerental"
  },
  "language_info": {
   "codemirror_mode": {
    "name": "ipython",
    "version": 3
   },
   "file_extension": ".py",
   "mimetype": "text/x-python",
   "name": "python",
   "nbconvert_exporter": "python",
   "pygments_lexer": "ipython3",
   "version": "3.7.3"
  }
 },
 "nbformat": 4,
 "nbformat_minor": 2
}
