{
 "cells": [
  {
   "cell_type": "markdown",
   "metadata": {},
   "source": [
    "# Download Bike Rentals Data\n",
    "\n",
    "Capital Bike Share stores data about bike rentals on [S3 bucket](https://s3.amazonaws.com/capitalbikeshare-data/index.html). Sets are available in zip format. Till the end of 2017, data were grouped in yearly packages, starting from 2018 they are published monthly.\n",
    "\n",
    "Script below was used in order to automate download process and to obtain complete dataset in one file."
   ]
  },
  {
   "cell_type": "code",
   "execution_count": null,
   "metadata": {
    "collapsed": true
   },
   "outputs": [],
   "source": [
    "import os\n",
    "os.chdir('..')"
   ]
  },
  {
   "cell_type": "code",
   "execution_count": 1,
   "metadata": {
    "collapsed": true
   },
   "outputs": [],
   "source": [
    "import pandas as pd\n",
    "import numpy as np\n",
    "\n",
    "import os\n",
    "import shutil\n",
    "from zipfile import ZipFile\n",
    "from urllib.request import urlopen"
   ]
  },
  {
   "cell_type": "markdown",
   "metadata": {},
   "source": [
    "* Pattern of files' urls is consistent and it requires substituting only part of it with the appropriate date.\n",
    "* All downloaded files will be stored in temporary folder which will be deleted with all its contents after all operations.\n",
    "* File with complete dataset will be saved in parquet format."
   ]
  },
  {
   "cell_type": "code",
   "execution_count": 2,
   "metadata": {
    "collapsed": true
   },
   "outputs": [],
   "source": [
    "bikeRental_batch = list(map(str, range(2010,2018))) \\\n",
    "                    + pd.date_range('2018-01', periods=14, freq='M').to_period('M').strftime('%Y%m').to_list()"
   ]
  },
  {
   "cell_type": "code",
   "execution_count": 3,
   "metadata": {
    "collapsed": true
   },
   "outputs": [],
   "source": [
    "temp_dir = 'data/raw_data/temp'\n",
    "try:\n",
    "    os.mkdir(temp_dir)\n",
    "except FileExistsError:\n",
    "    temp_dir = temp_dir + str(np.random.randint(0,50))\n",
    "    os.mkdir(temp_dir)"
   ]
  },
  {
   "cell_type": "code",
   "execution_count": 4,
   "metadata": {
    "collapsed": false,
    "scrolled": false
   },
   "outputs": [
    {
     "name": "stdout",
     "output_type": "stream",
     "text": [
      "number of records with  2010 data:  115597\n",
      "number of records with  2011 data:  1342364\n",
      "number of records with  2012 data:  3371275\n",
      "number of records with  2013 data:  5926816\n",
      "number of records with  2014 data:  8839966\n",
      "number of records with  2015 data:  12025872\n",
      "number of records with  2016 data:  15359866\n",
      "number of records with  2017 data:  19117643\n",
      "number of records with  201801 data:  19286233\n",
      "number of records with  201802 data:  19468611\n",
      "number of records with  201803 data:  19707609\n",
      "number of records with  201804 data:  20036516\n",
      "number of records with  201805 data:  20410631\n",
      "number of records with  201806 data:  20802969\n",
      "number of records with  201807 data:  21207730\n",
      "number of records with  201808 data:  21611596\n",
      "number of records with  201809 data:  21937396\n",
      "number of records with  201810 data:  22280417\n",
      "number of records with  201811 data:  22501474\n",
      "number of records with  201812 data:  22660327\n",
      "number of records with  201901 data:  22811107\n",
      "number of records with  201902 data:  22969237\n"
     ]
    },
    {
     "name": "stderr",
     "output_type": "stream",
     "text": [
      "C:\\Users\\Klaudia\\Anaconda3\\envs\\bikerental\\lib\\site-packages\\pyarrow\\pandas_compat.py:114: FutureWarning: A future version of pandas will default to `skipna=True`. To silence this warning, pass `skipna=True|False` explicitly.\n",
      "  result = infer_dtype(pandas_collection)\n"
     ]
    }
   ],
   "source": [
    "df_bikeRental = pd.DataFrame()\n",
    "\n",
    "for i in bikeRental_batch:\n",
    "    bikeRentalUrl = 'https://s3.amazonaws.com/capitalbikeshare-data/' + i + '-capitalbikeshare-tripdata.zip'\n",
    "    zfName = temp_dir + '/bike_data_'+ i +'.zip'\n",
    "    \n",
    "    url = urlopen(bikeRentalUrl)\n",
    "    output = open(zfName, 'wb')        \n",
    "    output.write(url.read())\n",
    "    output.close()\n",
    "    \n",
    "    zf = ZipFile(zfName)\n",
    "    \n",
    "    df_bikeTemp = pd.concat([pd.read_csv(zf.open(i)) for i in ZipFile.namelist(zf) if '/' not in i])\n",
    "    df_bikeRental = df_bikeRental.append(df_bikeTemp)\n",
    "    print('number of records with ', i, 'data: ', len(df_bikeRental))\n",
    "\n",
    "    \n",
    "df_bikeRental.to_parquet('data/raw_data/bikeRental.parquet')\n",
    "zf = None\n",
    "shutil.rmtree(temp_dir)"
   ]
  },
  {
   "cell_type": "code",
   "execution_count": null,
   "metadata": {
    "collapsed": true
   },
   "outputs": [],
   "source": []
  }
 ],
 "metadata": {
  "kernelspec": {
   "display_name": "Bike Rental",
   "language": "python",
   "name": "bikerental"
  },
  "language_info": {
   "codemirror_mode": {
    "name": "ipython",
    "version": 3
   },
   "file_extension": ".py",
   "mimetype": "text/x-python",
   "name": "python",
   "nbconvert_exporter": "python",
   "pygments_lexer": "ipython3",
   "version": "3.7.3"
  }
 },
 "nbformat": 4,
 "nbformat_minor": 2
}
