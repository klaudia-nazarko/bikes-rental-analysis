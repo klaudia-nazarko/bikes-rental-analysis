{
 "cells": [
  {
   "cell_type": "markdown",
   "metadata": {},
   "source": [
    "# Download Weather Data\n",
    "\n",
    "Weather data were scraped from freemeteo.com website. They are available in the form of the table. Each landing page contains data for a separate day. Url pattern requires only changing a date."
   ]
  },
  {
   "cell_type": "code",
   "execution_count": null,
   "metadata": {
    "collapsed": true
   },
   "outputs": [],
   "source": [
    "import os\n",
    "os.chdir('..')"
   ]
  },
  {
   "cell_type": "code",
   "execution_count": 1,
   "metadata": {
    "collapsed": true
   },
   "outputs": [],
   "source": [
    "import pandas as pd\n",
    "import os\n",
    "from calendar import monthrange"
   ]
  },
  {
   "cell_type": "code",
   "execution_count": 2,
   "metadata": {
    "collapsed": false
   },
   "outputs": [
    {
     "name": "stdout",
     "output_type": "stream",
     "text": [
      "directory already exists\n"
     ]
    }
   ],
   "source": [
    "weatherDir = 'data/raw_data/weather_monthly'\n",
    "\n",
    "try:\n",
    "    os.mkdir(weatherDir)\n",
    "except FileExistsError:\n",
    "    print('directory already exists')"
   ]
  },
  {
   "cell_type": "markdown",
   "metadata": {},
   "source": [
    "* Data can be downloaded for a date range defined in the dateRange variable\n",
    "* Weather data are downloaded for each day separately and they are merged into one table for the whole month\n",
    "* Data are saved in parquet format"
   ]
  },
  {
   "cell_type": "code",
   "execution_count": 14,
   "metadata": {
    "collapsed": false
   },
   "outputs": [
    {
     "name": "stdout",
     "output_type": "stream",
     "text": [
      "2012-12-31 - downloaded\n",
      "2012-11-30 - downloaded\n",
      "2012-10-31 - downloaded\n",
      "2012-09-30 - downloaded\n",
      "2012-08-31 - downloaded\n",
      "2012-07-31 - downloaded\n",
      "2012-06-30 - downloaded\n",
      "2012-05-31 - downloaded\n",
      "2012-04-30 - downloaded\n",
      "2012-03-31 - downloaded\n",
      "2012-02-29 - downloaded\n",
      "2012-01-31 - downloaded\n",
      "2011-12-31 - downloaded\n",
      "2011-11-30 - downloaded\n",
      "2011-10-31 - downloaded\n",
      "2011-09-30 - downloaded\n",
      "2011-08-31 - downloaded\n",
      "2011-07-31 - downloaded\n",
      "2011-06-30 - downloaded\n",
      "2011-05-31 - downloaded\n",
      "2011-04-30 - downloaded\n",
      "2011-03-31 - downloaded\n",
      "2011-02-28 - downloaded\n",
      "2011-01-31 - downloaded\n",
      "2010-12-31 - downloaded\n",
      "2010-11-30 - downloaded\n",
      "2010-10-31 - downloaded\n",
      "2010-09-30 - downloaded\n"
     ]
    }
   ],
   "source": [
    "dateRange = pd.date_range('2012-12', '2010-09', freq='-1MS')\n",
    "\n",
    "for d in dateRange:\n",
    "    df_weatherMonthly = pd.DataFrame()\n",
    "    month_len = monthrange(d.year, d.month)[1]\n",
    "    monthRange = pd.date_range(d, periods=month_len, freq='D').strftime('%Y-%m-%d').to_list()\n",
    "\n",
    "    for m in monthRange:\n",
    "        url = 'https://freemeteo.pl/weather/washington/history/daily-history/?gid=4140963&station=19064&date=' + m + '&language=english&country=us-united-states'\n",
    "        html = pd.read_html(url)\n",
    "        df_weatherDaily = html[6]\n",
    "        df_weatherDaily['date'] = m\n",
    "\n",
    "        df_weatherMonthly = df_weatherMonthly.append(df_weatherDaily)\n",
    "        \n",
    "    df_weatherMonthly.to_parquet(weatherDir + '/month_' + m + '.parquet')\n",
    "    print(m, \"- downloaded\")"
   ]
  },
  {
   "cell_type": "code",
   "execution_count": null,
   "metadata": {
    "collapsed": true
   },
   "outputs": [],
   "source": []
  }
 ],
 "metadata": {
  "kernelspec": {
   "display_name": "Bike Rental",
   "language": "python",
   "name": "bikerental"
  },
  "language_info": {
   "codemirror_mode": {
    "name": "ipython",
    "version": 3
   },
   "file_extension": ".py",
   "mimetype": "text/x-python",
   "name": "python",
   "nbconvert_exporter": "python",
   "pygments_lexer": "ipython3",
   "version": "3.7.3"
  }
 },
 "nbformat": 4,
 "nbformat_minor": 2
}
