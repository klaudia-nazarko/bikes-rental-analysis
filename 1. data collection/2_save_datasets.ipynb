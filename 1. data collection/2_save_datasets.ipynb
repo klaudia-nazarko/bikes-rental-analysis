{
 "cells": [
  {
   "cell_type": "markdown",
   "metadata": {},
   "source": [
    "# Data Preprocessing: Prepare Complete Datasets\n",
    "\n",
    "Data for this project consist of 3 datasets:\n",
    "1. Bike rental data - [download script]()\n",
    "2. Bike stations' location data - [source](http://opendata.dc.gov/datasets/capital-bike-share-locations)\n",
    "3. Weather data - [download script]()\n",
    "4. Bike stations' distances\n",
    "\n",
    "The goal of this script is to create one, separate dataset for each of the above sources, make sure that in general data are correct and implement consistent naming of features."
   ]
  },
  {
   "cell_type": "code",
   "execution_count": null,
   "metadata": {
    "collapsed": true
   },
   "outputs": [],
   "source": [
    "import os\n",
    "os.chdir('..')"
   ]
  },
  {
   "cell_type": "code",
   "execution_count": 1,
   "metadata": {
    "collapsed": true
   },
   "outputs": [],
   "source": [
    "import pandas as pd\n",
    "from geopy.geocoders import Nominatim\n",
    "from geopy.distance import geodesic\n",
    "from itertools import combinations\n",
    "import re\n",
    "import os"
   ]
  },
  {
   "cell_type": "markdown",
   "metadata": {
    "collapsed": true
   },
   "source": [
    "## Bike Stations' Location Data\n",
    "\n",
    "Performed operations:\n",
    "\n",
    "1. Rename and reorder columns\n",
    "2. Calculate station capacity based on number of free and rented bikes\n",
    "3. Download information about location of stations\n",
    "4. Extract postal code and city from the station's address"
   ]
  },
  {
   "cell_type": "code",
   "execution_count": 2,
   "metadata": {
    "collapsed": false
   },
   "outputs": [
    {
     "data": {
      "text/html": [
       "<div>\n",
       "<style scoped>\n",
       "    .dataframe tbody tr th:only-of-type {\n",
       "        vertical-align: middle;\n",
       "    }\n",
       "\n",
       "    .dataframe tbody tr th {\n",
       "        vertical-align: top;\n",
       "    }\n",
       "\n",
       "    .dataframe thead th {\n",
       "        text-align: right;\n",
       "    }\n",
       "</style>\n",
       "<table border=\"1\" class=\"dataframe\">\n",
       "  <thead>\n",
       "    <tr style=\"text-align: right;\">\n",
       "      <th></th>\n",
       "      <th>address</th>\n",
       "      <th>terminal_number</th>\n",
       "      <th>latitude</th>\n",
       "      <th>longitude</th>\n",
       "      <th>station_capacity</th>\n",
       "    </tr>\n",
       "  </thead>\n",
       "  <tbody>\n",
       "    <tr>\n",
       "      <th>0</th>\n",
       "      <td>4th St &amp; Madison Dr NW</td>\n",
       "      <td>31288</td>\n",
       "      <td>38.890493</td>\n",
       "      <td>-77.017253</td>\n",
       "      <td>25</td>\n",
       "    </tr>\n",
       "    <tr>\n",
       "      <th>1</th>\n",
       "      <td>Henry Bacon Dr &amp; Lincoln Memorial Circle NW</td>\n",
       "      <td>31289</td>\n",
       "      <td>38.890544</td>\n",
       "      <td>-77.049379</td>\n",
       "      <td>10</td>\n",
       "    </tr>\n",
       "    <tr>\n",
       "      <th>2</th>\n",
       "      <td>17th St &amp; Independence Ave SW</td>\n",
       "      <td>31290</td>\n",
       "      <td>38.888097</td>\n",
       "      <td>-77.038325</td>\n",
       "      <td>18</td>\n",
       "    </tr>\n",
       "    <tr>\n",
       "      <th>3</th>\n",
       "      <td>Franklin St &amp; S Washington St</td>\n",
       "      <td>31907</td>\n",
       "      <td>38.798133</td>\n",
       "      <td>-77.048700</td>\n",
       "      <td>18</td>\n",
       "    </tr>\n",
       "    <tr>\n",
       "      <th>4</th>\n",
       "      <td>Mount Vernon Ave &amp; Four Mile Run Park</td>\n",
       "      <td>31909</td>\n",
       "      <td>38.843422</td>\n",
       "      <td>-77.064016</td>\n",
       "      <td>12</td>\n",
       "    </tr>\n",
       "  </tbody>\n",
       "</table>\n",
       "</div>"
      ],
      "text/plain": [
       "                                       address  terminal_number   latitude  \\\n",
       "0                       4th St & Madison Dr NW            31288  38.890493   \n",
       "1  Henry Bacon Dr & Lincoln Memorial Circle NW            31289  38.890544   \n",
       "2                17th St & Independence Ave SW            31290  38.888097   \n",
       "3                Franklin St & S Washington St            31907  38.798133   \n",
       "4        Mount Vernon Ave & Four Mile Run Park            31909  38.843422   \n",
       "\n",
       "   longitude  station_capacity  \n",
       "0 -77.017253                25  \n",
       "1 -77.049379                10  \n",
       "2 -77.038325                18  \n",
       "3 -77.048700                18  \n",
       "4 -77.064016                12  "
      ]
     },
     "execution_count": 2,
     "metadata": {},
     "output_type": "execute_result"
    }
   ],
   "source": [
    "stations = pd.read_csv('data/raw_data/Capital_Bike_Share_Locations.csv')\n",
    "\n",
    "stations.columns = stations.columns.str.lower()\n",
    "stations['station_capacity'] = stations['number_of_bikes'] + stations['number_of_empty_docks']\n",
    "stations = stations[['address', 'terminal_number', 'latitude', 'longitude', 'station_capacity']]\n",
    "\n",
    "stations.head()"
   ]
  },
  {
   "cell_type": "code",
   "execution_count": 3,
   "metadata": {
    "collapsed": false
   },
   "outputs": [
    {
     "name": "stderr",
     "output_type": "stream",
     "text": [
      "C:\\Users\\Klaudia\\Anaconda3\\envs\\bikerental\\lib\\site-packages\\ipykernel_launcher.py:1: DeprecationWarning: Using Nominatim with the default \"geopy/1.19.0\" `user_agent` is strongly discouraged, as it violates Nominatim's ToS https://operations.osmfoundation.org/policies/nominatim/ and may possibly cause 403 and 429 HTTP errors. Please specify a custom `user_agent` with `Nominatim(user_agent=\"my-application\")` or by overriding the default `user_agent`: `geopy.geocoders.options.default_user_agent = \"my-application\"`. In geopy 2.0 this will become an exception.\n",
      "  \"\"\"Entry point for launching an IPython kernel.\n"
     ]
    }
   ],
   "source": [
    "geolocator = Nominatim()"
   ]
  },
  {
   "cell_type": "code",
   "execution_count": 4,
   "metadata": {
    "collapsed": true
   },
   "outputs": [],
   "source": [
    "def find_location(coordinates):\n",
    "    location = geolocator.reverse(coordinates, timeout=30)\n",
    "    return(location[0])"
   ]
  },
  {
   "cell_type": "code",
   "execution_count": 5,
   "metadata": {
    "collapsed": true,
    "scrolled": true
   },
   "outputs": [],
   "source": [
    "stations['coordinates'] = stations[['latitude', 'longitude']].apply(lambda x :', '.join([str(x[0]), str(x[1])]), axis=1)\n",
    "stations['location'] = stations['coordinates'].apply(find_location)"
   ]
  },
  {
   "cell_type": "code",
   "execution_count": 6,
   "metadata": {
    "collapsed": true
   },
   "outputs": [],
   "source": [
    "def find_postalCode(location):\n",
    "    code = location.split(',')[-2].strip()\n",
    "    try:\n",
    "        code = int(code[:5])\n",
    "    except:\n",
    "        code = 0\n",
    "    return(code)\n",
    "\n",
    "def find_city(location):\n",
    "    city = location.split(',')[-3].strip()\n",
    "    if city == 'Arlington County':\n",
    "        city = 'Virginia'\n",
    "    return(city)"
   ]
  },
  {
   "cell_type": "code",
   "execution_count": 7,
   "metadata": {
    "collapsed": false
   },
   "outputs": [
    {
     "data": {
      "text/html": [
       "<div>\n",
       "<style scoped>\n",
       "    .dataframe tbody tr th:only-of-type {\n",
       "        vertical-align: middle;\n",
       "    }\n",
       "\n",
       "    .dataframe tbody tr th {\n",
       "        vertical-align: top;\n",
       "    }\n",
       "\n",
       "    .dataframe thead th {\n",
       "        text-align: right;\n",
       "    }\n",
       "</style>\n",
       "<table border=\"1\" class=\"dataframe\">\n",
       "  <thead>\n",
       "    <tr style=\"text-align: right;\">\n",
       "      <th></th>\n",
       "      <th>station_id</th>\n",
       "      <th>address</th>\n",
       "      <th>latitude</th>\n",
       "      <th>longitude</th>\n",
       "      <th>station_capacity</th>\n",
       "      <th>location</th>\n",
       "      <th>postal_code</th>\n",
       "      <th>city</th>\n",
       "    </tr>\n",
       "  </thead>\n",
       "  <tbody>\n",
       "    <tr>\n",
       "      <th>0</th>\n",
       "      <td>31288</td>\n",
       "      <td>4th St &amp; Madison Dr NW</td>\n",
       "      <td>38.890493</td>\n",
       "      <td>-77.017253</td>\n",
       "      <td>25</td>\n",
       "      <td>4th St and Madison Dr NW, Madison Drive Northw...</td>\n",
       "      <td>20301</td>\n",
       "      <td>D.C.</td>\n",
       "    </tr>\n",
       "    <tr>\n",
       "      <th>1</th>\n",
       "      <td>31289</td>\n",
       "      <td>Henry Bacon Dr &amp; Lincoln Memorial Circle NW</td>\n",
       "      <td>38.890544</td>\n",
       "      <td>-77.049379</td>\n",
       "      <td>10</td>\n",
       "      <td>West Potomac Park, Independence Avenue Southwe...</td>\n",
       "      <td>20418</td>\n",
       "      <td>D.C.</td>\n",
       "    </tr>\n",
       "    <tr>\n",
       "      <th>2</th>\n",
       "      <td>31290</td>\n",
       "      <td>17th St &amp; Independence Ave SW</td>\n",
       "      <td>38.888097</td>\n",
       "      <td>-77.038325</td>\n",
       "      <td>18</td>\n",
       "      <td>National Mall, Independence Avenue Southwest, ...</td>\n",
       "      <td>20227</td>\n",
       "      <td>D.C.</td>\n",
       "    </tr>\n",
       "    <tr>\n",
       "      <th>3</th>\n",
       "      <td>31907</td>\n",
       "      <td>Franklin St &amp; S Washington St</td>\n",
       "      <td>38.798133</td>\n",
       "      <td>-77.048700</td>\n",
       "      <td>18</td>\n",
       "      <td>Franklin and S Washington St, Franklin Street,...</td>\n",
       "      <td>22314</td>\n",
       "      <td>Virginia</td>\n",
       "    </tr>\n",
       "    <tr>\n",
       "      <th>4</th>\n",
       "      <td>31909</td>\n",
       "      <td>Mount Vernon Ave &amp; Four Mile Run Park</td>\n",
       "      <td>38.843422</td>\n",
       "      <td>-77.064016</td>\n",
       "      <td>12</td>\n",
       "      <td>Four Mile Run Park, 4131, Mount Vernon Avenue,...</td>\n",
       "      <td>22305</td>\n",
       "      <td>Virginia</td>\n",
       "    </tr>\n",
       "  </tbody>\n",
       "</table>\n",
       "</div>"
      ],
      "text/plain": [
       "   station_id                                      address   latitude  \\\n",
       "0       31288                       4th St & Madison Dr NW  38.890493   \n",
       "1       31289  Henry Bacon Dr & Lincoln Memorial Circle NW  38.890544   \n",
       "2       31290                17th St & Independence Ave SW  38.888097   \n",
       "3       31907                Franklin St & S Washington St  38.798133   \n",
       "4       31909        Mount Vernon Ave & Four Mile Run Park  38.843422   \n",
       "\n",
       "   longitude  station_capacity  \\\n",
       "0 -77.017253                25   \n",
       "1 -77.049379                10   \n",
       "2 -77.038325                18   \n",
       "3 -77.048700                18   \n",
       "4 -77.064016                12   \n",
       "\n",
       "                                            location  postal_code      city  \n",
       "0  4th St and Madison Dr NW, Madison Drive Northw...        20301      D.C.  \n",
       "1  West Potomac Park, Independence Avenue Southwe...        20418      D.C.  \n",
       "2  National Mall, Independence Avenue Southwest, ...        20227      D.C.  \n",
       "3  Franklin and S Washington St, Franklin Street,...        22314  Virginia  \n",
       "4  Four Mile Run Park, 4131, Mount Vernon Avenue,...        22305  Virginia  "
      ]
     },
     "execution_count": 7,
     "metadata": {},
     "output_type": "execute_result"
    }
   ],
   "source": [
    "stations['postal_code'] = stations['location'].apply(find_postalCode)\n",
    "stations['city'] = stations['location'].apply(find_city)\n",
    "stations = stations.drop('coordinates', axis=1)\n",
    "\n",
    "cols = stations.columns.to_list()\n",
    "cols = [cols.pop(cols.index('terminal_number'))] + cols\n",
    "stations = stations[cols]\n",
    "\n",
    "stations.rename({'terminal_number': 'station_id'}, axis=1, inplace=True)\n",
    "\n",
    "stations.head()"
   ]
  },
  {
   "cell_type": "code",
   "execution_count": 8,
   "metadata": {
    "collapsed": false
   },
   "outputs": [
    {
     "name": "stdout",
     "output_type": "stream",
     "text": [
      "<class 'pandas.core.frame.DataFrame'>\n",
      "RangeIndex: 535 entries, 0 to 534\n",
      "Data columns (total 8 columns):\n",
      "station_id          535 non-null int64\n",
      "address             535 non-null object\n",
      "latitude            535 non-null float64\n",
      "longitude           535 non-null float64\n",
      "station_capacity    535 non-null int64\n",
      "location            535 non-null object\n",
      "postal_code         535 non-null int64\n",
      "city                535 non-null object\n",
      "dtypes: float64(2), int64(3), object(3)\n",
      "memory usage: 33.5+ KB\n"
     ]
    }
   ],
   "source": [
    "stations.info()"
   ]
  },
  {
   "cell_type": "code",
   "execution_count": 9,
   "metadata": {
    "collapsed": true
   },
   "outputs": [],
   "source": [
    "stations.to_parquet('data/db_stations.parquet', index=False)"
   ]
  },
  {
   "cell_type": "code",
   "execution_count": null,
   "metadata": {
    "collapsed": true
   },
   "outputs": [],
   "source": [
    "stations = None"
   ]
  },
  {
   "cell_type": "markdown",
   "metadata": {},
   "source": [
    "## Bike Rental Data\n",
    "\n",
    "Performed operations:\n",
    "1. Rename and reorder columns, drop some of them\n",
    "2. Ensure correct format of dates\n",
    "3. Add information about city as a separate column"
   ]
  },
  {
   "cell_type": "code",
   "execution_count": 10,
   "metadata": {
    "collapsed": true,
    "scrolled": true
   },
   "outputs": [],
   "source": [
    "bikeRental = pd.read_parquet('data/raw_data/bikeRental.parquet')"
   ]
  },
  {
   "cell_type": "code",
   "execution_count": 14,
   "metadata": {
    "collapsed": false
   },
   "outputs": [
    {
     "data": {
      "text/html": [
       "<div>\n",
       "<style scoped>\n",
       "    .dataframe tbody tr th:only-of-type {\n",
       "        vertical-align: middle;\n",
       "    }\n",
       "\n",
       "    .dataframe tbody tr th {\n",
       "        vertical-align: top;\n",
       "    }\n",
       "\n",
       "    .dataframe thead th {\n",
       "        text-align: right;\n",
       "    }\n",
       "</style>\n",
       "<table border=\"1\" class=\"dataframe\">\n",
       "  <thead>\n",
       "    <tr style=\"text-align: right;\">\n",
       "      <th></th>\n",
       "      <th>rental_id</th>\n",
       "      <th>start_date</th>\n",
       "      <th>end_date</th>\n",
       "      <th>start_station_id</th>\n",
       "      <th>end_station_id</th>\n",
       "      <th>bike_id</th>\n",
       "      <th>member_type</th>\n",
       "      <th>duration</th>\n",
       "    </tr>\n",
       "  </thead>\n",
       "  <tbody>\n",
       "    <tr>\n",
       "      <th>0</th>\n",
       "      <td>0</td>\n",
       "      <td>2010-09-20 11:27:04</td>\n",
       "      <td>2010-09-20 11:43:56</td>\n",
       "      <td>31208</td>\n",
       "      <td>31108</td>\n",
       "      <td>W00742</td>\n",
       "      <td>Member</td>\n",
       "      <td>1012</td>\n",
       "    </tr>\n",
       "    <tr>\n",
       "      <th>1</th>\n",
       "      <td>1</td>\n",
       "      <td>2010-09-20 11:41:22</td>\n",
       "      <td>2010-09-20 11:42:23</td>\n",
       "      <td>31209</td>\n",
       "      <td>31209</td>\n",
       "      <td>W00032</td>\n",
       "      <td>Member</td>\n",
       "      <td>61</td>\n",
       "    </tr>\n",
       "    <tr>\n",
       "      <th>2</th>\n",
       "      <td>2</td>\n",
       "      <td>2010-09-20 12:05:37</td>\n",
       "      <td>2010-09-20 12:50:27</td>\n",
       "      <td>31600</td>\n",
       "      <td>31100</td>\n",
       "      <td>W00993</td>\n",
       "      <td>Member</td>\n",
       "      <td>2690</td>\n",
       "    </tr>\n",
       "    <tr>\n",
       "      <th>3</th>\n",
       "      <td>3</td>\n",
       "      <td>2010-09-20 12:06:05</td>\n",
       "      <td>2010-09-20 12:29:32</td>\n",
       "      <td>31600</td>\n",
       "      <td>31602</td>\n",
       "      <td>W00344</td>\n",
       "      <td>Member</td>\n",
       "      <td>1406</td>\n",
       "    </tr>\n",
       "    <tr>\n",
       "      <th>4</th>\n",
       "      <td>4</td>\n",
       "      <td>2010-09-20 12:10:43</td>\n",
       "      <td>2010-09-20 12:34:17</td>\n",
       "      <td>31100</td>\n",
       "      <td>31201</td>\n",
       "      <td>W00883</td>\n",
       "      <td>Member</td>\n",
       "      <td>1413</td>\n",
       "    </tr>\n",
       "  </tbody>\n",
       "</table>\n",
       "</div>"
      ],
      "text/plain": [
       "   rental_id           start_date             end_date  start_station_id  \\\n",
       "0          0  2010-09-20 11:27:04  2010-09-20 11:43:56             31208   \n",
       "1          1  2010-09-20 11:41:22  2010-09-20 11:42:23             31209   \n",
       "2          2  2010-09-20 12:05:37  2010-09-20 12:50:27             31600   \n",
       "3          3  2010-09-20 12:06:05  2010-09-20 12:29:32             31600   \n",
       "4          4  2010-09-20 12:10:43  2010-09-20 12:34:17             31100   \n",
       "\n",
       "   end_station_id bike_id member_type  duration  \n",
       "0           31108  W00742      Member      1012  \n",
       "1           31209  W00032      Member        61  \n",
       "2           31100  W00993      Member      2690  \n",
       "3           31602  W00344      Member      1406  \n",
       "4           31201  W00883      Member      1413  "
      ]
     },
     "execution_count": 14,
     "metadata": {},
     "output_type": "execute_result"
    }
   ],
   "source": [
    "bikeRental = bikeRental.drop(['Start station', 'End station'], axis=1)\n",
    "bikeRental.columns = ['duration', 'start_date', 'end_date', 'start_station_id', 'end_station_id', 'bike_id', 'member_type']\n",
    "\n",
    "cols = bikeRental.columns.to_list()\n",
    "cols.append(cols.pop(cols.index('duration')))\n",
    "bikeRental = bikeRental[cols]\n",
    "\n",
    "bikeRental.reset_index(drop=True, inplace=True)\n",
    "bikeRental.insert(0, 'rental_id', bikeRental.index)\n",
    "\n",
    "bikeRental.head()"
   ]
  },
  {
   "cell_type": "code",
   "execution_count": 16,
   "metadata": {
    "collapsed": true
   },
   "outputs": [],
   "source": [
    "bikeRental['start_date'] = pd.to_datetime(bikeRental['start_date'])\n",
    "bikeRental['end_date'] = pd.to_datetime(bikeRental['end_date'])"
   ]
  },
  {
   "cell_type": "code",
   "execution_count": 20,
   "metadata": {
    "collapsed": true
   },
   "outputs": [],
   "source": [
    "drop_cols = [i for i in stations.columns if i not in ['city']]\n",
    "\n",
    "bikeRental = bikeRental.merge(stations, how='left', left_on='start_station_id', right_on='station_id').drop(drop_cols, axis=1)"
   ]
  },
  {
   "cell_type": "code",
   "execution_count": 21,
   "metadata": {
    "collapsed": false
   },
   "outputs": [
    {
     "name": "stdout",
     "output_type": "stream",
     "text": [
      "<class 'pandas.core.frame.DataFrame'>\n",
      "Int64Index: 22969237 entries, 0 to 22969236\n",
      "Data columns (total 9 columns):\n",
      "rental_id           int64\n",
      "start_date          datetime64[ns]\n",
      "end_date            datetime64[ns]\n",
      "start_station_id    int64\n",
      "end_station_id      int64\n",
      "bike_id             object\n",
      "member_type         object\n",
      "duration            int64\n",
      "city                object\n",
      "dtypes: datetime64[ns](2), int64(4), object(3)\n",
      "memory usage: 1.7+ GB\n"
     ]
    }
   ],
   "source": [
    "bikeRental.info()"
   ]
  },
  {
   "cell_type": "code",
   "execution_count": 22,
   "metadata": {
    "collapsed": true
   },
   "outputs": [],
   "source": [
    "bikeRental.to_parquet('data/db_rentals.parquet', index=False)"
   ]
  },
  {
   "cell_type": "code",
   "execution_count": 23,
   "metadata": {
    "collapsed": true,
    "scrolled": false
   },
   "outputs": [],
   "source": [
    "bikeRental = None"
   ]
  },
  {
   "cell_type": "markdown",
   "metadata": {},
   "source": [
    "## Weather Data\n",
    "\n",
    "Weather data need to be loaded from separate files and joining it into one table.\n",
    "Other performed operations:\n",
    "\n",
    "1. Rename and reorder columns, drop some of them\n",
    "2. Calculate new column containing datetime of weather observation\n",
    "3. Format numeric values\n",
    "4. Extract information about clouds, rain, snowfall and thunder from weather description"
   ]
  },
  {
   "cell_type": "code",
   "execution_count": 40,
   "metadata": {
    "collapsed": false,
    "scrolled": true
   },
   "outputs": [
    {
     "name": "stdout",
     "output_type": "stream",
     "text": [
      "85528\n"
     ]
    }
   ],
   "source": [
    "weather_dir = 'data/raw_data/weather_monthly/'\n",
    "weather = pd.concat([pd.read_parquet('data/raw_data/weather_monthly/' + i) for i in os.listdir(weather_dir)])\n",
    "print(len(weather))"
   ]
  },
  {
   "cell_type": "code",
   "execution_count": 41,
   "metadata": {
    "collapsed": true
   },
   "outputs": [],
   "source": [
    "def format_numbers(number):\n",
    "    number = float(re.sub('[^-?0-9.]+', '', number))\n",
    "    return int(number)\n",
    "\n",
    "def clouds_analysis(details):\n",
    "    details = details.split(' at ')[0].lower()\n",
    "    cloud_encoding = {\n",
    "        'clear': 'clear',\n",
    "        'scattered clouds': 'partly cloudy',\n",
    "        'few clouds': 'cloudy',\n",
    "        'broken clouds': 'cloudy',\n",
    "        'cloudy': 'cloudy'\n",
    "    }\n",
    "    for i in cloud_encoding.keys():\n",
    "        if i in details:\n",
    "            return(cloud_encoding[i])\n",
    "    return('')\n",
    "\n",
    "def check_weatherConditions(details, fall_type):\n",
    "    index = details.lower().find(fall_type)\n",
    "    if index > 0:\n",
    "        return 1\n",
    "    else:\n",
    "        return 0"
   ]
  },
  {
   "cell_type": "code",
   "execution_count": 42,
   "metadata": {
    "collapsed": true
   },
   "outputs": [],
   "source": [
    "weather['datetime']= pd.to_datetime(weather['date'] + ' ' + weather['Time'])\n",
    "weather['date'] = pd.to_datetime(weather['date'])\n",
    "weather.drop(['Wind Gust', 'Dew Point', 'Icon'], inplace=True, axis=1)\n",
    "weather.columns = ['time', 'temperature', 'relative_temperature', 'wind', 'relative_humidity', 'pressure', 'details', 'date', 'datetime']"
   ]
  },
  {
   "cell_type": "code",
   "execution_count": 43,
   "metadata": {
    "collapsed": true
   },
   "outputs": [],
   "source": [
    "weather['wind'] = weather['wind'].apply(lambda x: x.replace('Calm', '0').replace('°','.'))\n",
    "weather['details'] = weather['details'].apply(lambda x: x.split(';')[1])\n",
    "\n",
    "for col in ['temperature', 'relative_temperature', 'wind', 'relative_humidity', 'pressure']:\n",
    "    weather[col] = weather[col].apply(format_numbers)\n",
    "\n",
    "weather['relative_humidity'] = weather['relative_humidity']/100"
   ]
  },
  {
   "cell_type": "code",
   "execution_count": 44,
   "metadata": {
    "collapsed": true
   },
   "outputs": [],
   "source": [
    "weather['clouds'] = weather['details'].apply(clouds_analysis)\n",
    "weather['rain'] = weather['details'].apply(check_weatherConditions, fall_type='rain')\n",
    "weather['snow'] = weather['details'].apply(check_weatherConditions, fall_type='snow')\n",
    "weather['thunder'] = weather['details'].apply(check_weatherConditions, fall_type='thunder')"
   ]
  },
  {
   "cell_type": "code",
   "execution_count": 47,
   "metadata": {
    "collapsed": false
   },
   "outputs": [
    {
     "data": {
      "text/html": [
       "<div>\n",
       "<style scoped>\n",
       "    .dataframe tbody tr th:only-of-type {\n",
       "        vertical-align: middle;\n",
       "    }\n",
       "\n",
       "    .dataframe tbody tr th {\n",
       "        vertical-align: top;\n",
       "    }\n",
       "\n",
       "    .dataframe thead th {\n",
       "        text-align: right;\n",
       "    }\n",
       "</style>\n",
       "<table border=\"1\" class=\"dataframe\">\n",
       "  <thead>\n",
       "    <tr style=\"text-align: right;\">\n",
       "      <th></th>\n",
       "      <th>datetime</th>\n",
       "      <th>date</th>\n",
       "      <th>time</th>\n",
       "      <th>temperature</th>\n",
       "      <th>relative_temperature</th>\n",
       "      <th>wind</th>\n",
       "      <th>relative_humidity</th>\n",
       "      <th>pressure</th>\n",
       "      <th>clouds</th>\n",
       "      <th>rain</th>\n",
       "      <th>snow</th>\n",
       "      <th>thunder</th>\n",
       "    </tr>\n",
       "  </thead>\n",
       "  <tbody>\n",
       "    <tr>\n",
       "      <th>18</th>\n",
       "      <td>2013-02-02 23:52:00</td>\n",
       "      <td>2013-02-02</td>\n",
       "      <td>23:52</td>\n",
       "      <td>-1</td>\n",
       "      <td>-1</td>\n",
       "      <td>0</td>\n",
       "      <td>0.86</td>\n",
       "      <td>1017</td>\n",
       "      <td>cloudy</td>\n",
       "      <td>0</td>\n",
       "      <td>0</td>\n",
       "      <td>0</td>\n",
       "    </tr>\n",
       "    <tr>\n",
       "      <th>20</th>\n",
       "      <td>2017-08-20 20:52:00</td>\n",
       "      <td>2017-08-20</td>\n",
       "      <td>20:52</td>\n",
       "      <td>27</td>\n",
       "      <td>29</td>\n",
       "      <td>130</td>\n",
       "      <td>0.70</td>\n",
       "      <td>1020</td>\n",
       "      <td>clear</td>\n",
       "      <td>0</td>\n",
       "      <td>0</td>\n",
       "      <td>0</td>\n",
       "    </tr>\n",
       "    <tr>\n",
       "      <th>6</th>\n",
       "      <td>2013-03-27 06:52:00</td>\n",
       "      <td>2013-03-27</td>\n",
       "      <td>06:52</td>\n",
       "      <td>4</td>\n",
       "      <td>1</td>\n",
       "      <td>300</td>\n",
       "      <td>0.61</td>\n",
       "      <td>1017</td>\n",
       "      <td>cloudy</td>\n",
       "      <td>0</td>\n",
       "      <td>0</td>\n",
       "      <td>0</td>\n",
       "    </tr>\n",
       "    <tr>\n",
       "      <th>10</th>\n",
       "      <td>2017-11-25 10:52:00</td>\n",
       "      <td>2017-11-25</td>\n",
       "      <td>10:52</td>\n",
       "      <td>11</td>\n",
       "      <td>11</td>\n",
       "      <td>170</td>\n",
       "      <td>0.54</td>\n",
       "      <td>1008</td>\n",
       "      <td>partly cloudy</td>\n",
       "      <td>0</td>\n",
       "      <td>0</td>\n",
       "      <td>0</td>\n",
       "    </tr>\n",
       "    <tr>\n",
       "      <th>5</th>\n",
       "      <td>2016-12-19 05:52:00</td>\n",
       "      <td>2016-12-19</td>\n",
       "      <td>05:52</td>\n",
       "      <td>0</td>\n",
       "      <td>-4</td>\n",
       "      <td>360</td>\n",
       "      <td>0.60</td>\n",
       "      <td>1038</td>\n",
       "      <td>cloudy</td>\n",
       "      <td>0</td>\n",
       "      <td>0</td>\n",
       "      <td>0</td>\n",
       "    </tr>\n",
       "  </tbody>\n",
       "</table>\n",
       "</div>"
      ],
      "text/plain": [
       "              datetime       date   time  temperature  relative_temperature  \\\n",
       "18 2013-02-02 23:52:00 2013-02-02  23:52           -1                    -1   \n",
       "20 2017-08-20 20:52:00 2017-08-20  20:52           27                    29   \n",
       "6  2013-03-27 06:52:00 2013-03-27  06:52            4                     1   \n",
       "10 2017-11-25 10:52:00 2017-11-25  10:52           11                    11   \n",
       "5  2016-12-19 05:52:00 2016-12-19  05:52            0                    -4   \n",
       "\n",
       "    wind  relative_humidity  pressure         clouds  rain  snow  thunder  \n",
       "18     0               0.86      1017         cloudy     0     0        0  \n",
       "20   130               0.70      1020          clear     0     0        0  \n",
       "6    300               0.61      1017         cloudy     0     0        0  \n",
       "10   170               0.54      1008  partly cloudy     0     0        0  \n",
       "5    360               0.60      1038         cloudy     0     0        0  "
      ]
     },
     "execution_count": 47,
     "metadata": {},
     "output_type": "execute_result"
    }
   ],
   "source": [
    "weather = weather[['datetime', 'date', 'time', 'temperature', 'relative_temperature', 'wind', 'relative_humidity', 'pressure', 'clouds', 'rain', 'snow', 'thunder']]\n",
    "weather.sample(5)"
   ]
  },
  {
   "cell_type": "code",
   "execution_count": 48,
   "metadata": {
    "collapsed": false
   },
   "outputs": [
    {
     "name": "stdout",
     "output_type": "stream",
     "text": [
      "<class 'pandas.core.frame.DataFrame'>\n",
      "Int64Index: 85528 entries, 0 to 23\n",
      "Data columns (total 12 columns):\n",
      "datetime                85528 non-null datetime64[ns]\n",
      "date                    85528 non-null datetime64[ns]\n",
      "time                    85528 non-null object\n",
      "temperature             85528 non-null int64\n",
      "relative_temperature    85528 non-null int64\n",
      "wind                    85528 non-null int64\n",
      "relative_humidity       85528 non-null float64\n",
      "pressure                85528 non-null int64\n",
      "clouds                  85528 non-null object\n",
      "rain                    85528 non-null int64\n",
      "snow                    85528 non-null int64\n",
      "thunder                 85528 non-null int64\n",
      "dtypes: datetime64[ns](2), float64(1), int64(7), object(2)\n",
      "memory usage: 8.5+ MB\n"
     ]
    }
   ],
   "source": [
    "weather.info()"
   ]
  },
  {
   "cell_type": "code",
   "execution_count": 49,
   "metadata": {
    "collapsed": true
   },
   "outputs": [],
   "source": [
    "weather.to_parquet('data/db_weather.parquet', index=False)"
   ]
  },
  {
   "cell_type": "code",
   "execution_count": 50,
   "metadata": {
    "collapsed": true
   },
   "outputs": [],
   "source": [
    "weather = None"
   ]
  },
  {
   "cell_type": "markdown",
   "metadata": {},
   "source": [
    "## Stations Distance\n",
    "\n",
    "Given that majority of rides are from point A to point B and knowing the location of bike stations, the code below calculates the distance between two stations.\n",
    "\n",
    "Performed operations:\n",
    "1. Create a list of all possible stations' combinations\n",
    "2. Calculate the distance based on coordinates"
   ]
  },
  {
   "cell_type": "code",
   "execution_count": 5,
   "metadata": {
    "collapsed": true
   },
   "outputs": [],
   "source": [
    "stations = pd.read_parquet('data/db_stations.parquet')\n",
    "stations = stations[['station_id', 'latitude', 'longitude']]"
   ]
  },
  {
   "cell_type": "code",
   "execution_count": 6,
   "metadata": {
    "collapsed": true
   },
   "outputs": [],
   "source": [
    "def find_distance(coordinates):\n",
    "    a = (coordinates[0], coordinates[1])\n",
    "    b = (coordinates[2], coordinates[3])\n",
    "    \n",
    "    return geodesic(a, b).km"
   ]
  },
  {
   "cell_type": "code",
   "execution_count": 7,
   "metadata": {
    "collapsed": true
   },
   "outputs": [],
   "source": [
    "comb = list(combinations(stations['station_id'].unique(), 2))\n",
    "df_distance = pd.DataFrame(comb).rename({0: 'station_a', 1: 'station_b'}, axis=1)\n",
    "\n",
    "df_distance = df_distance.merge(stations, how='left', left_on='station_a', right_on='station_id')\n",
    "df_distance = df_distance.merge(stations, how='left', left_on='station_b', right_on='station_id', suffixes=['_a', '_b'])\n",
    "df_distance = df_distance[['station_a', 'station_b', 'latitude_a', 'longitude_a', 'latitude_b', 'longitude_b']]"
   ]
  },
  {
   "cell_type": "code",
   "execution_count": 8,
   "metadata": {
    "collapsed": true
   },
   "outputs": [],
   "source": [
    "df_distance['distance'] = df_distance[['latitude_a', 'longitude_a', 'latitude_b', 'longitude_b']].apply(find_distance, axis=1)"
   ]
  },
  {
   "cell_type": "code",
   "execution_count": 9,
   "metadata": {
    "collapsed": false
   },
   "outputs": [
    {
     "name": "stderr",
     "output_type": "stream",
     "text": [
      "C:\\Users\\Klaudia\\Anaconda3\\envs\\bikerental\\lib\\site-packages\\pandas\\core\\frame.py:6692: FutureWarning: Sorting because non-concatenation axis is not aligned. A future version\n",
      "of pandas will change to not sort by default.\n",
      "\n",
      "To accept the future behavior, pass 'sort=False'.\n",
      "\n",
      "To retain the current behavior and silence the warning, pass 'sort=True'.\n",
      "\n",
      "  sort=sort)\n"
     ]
    }
   ],
   "source": [
    "df_distance_inverse = df_distance.copy()\n",
    "df_distance_inverse.rename({'station_a': 'station_b', 'station_b': 'station_a'}, axis=1, inplace=True)\n",
    "df_distance = df_distance.append(df_distance_inverse, ignore_index=True)"
   ]
  },
  {
   "cell_type": "code",
   "execution_count": 10,
   "metadata": {
    "collapsed": true
   },
   "outputs": [],
   "source": [
    "df_distance.to_parquet('data/db_stations_distance.parquet', index=False)"
   ]
  },
  {
   "cell_type": "code",
   "execution_count": 12,
   "metadata": {
    "collapsed": true
   },
   "outputs": [],
   "source": [
    "df_distance = None"
   ]
  }
 ],
 "metadata": {
  "kernelspec": {
   "display_name": "Bike Rental",
   "language": "python",
   "name": "bikerental"
  },
  "language_info": {
   "codemirror_mode": {
    "name": "ipython",
    "version": 3
   },
   "file_extension": ".py",
   "mimetype": "text/x-python",
   "name": "python",
   "nbconvert_exporter": "python",
   "pygments_lexer": "ipython3",
   "version": "3.7.3"
  }
 },
 "nbformat": 4,
 "nbformat_minor": 2
}
