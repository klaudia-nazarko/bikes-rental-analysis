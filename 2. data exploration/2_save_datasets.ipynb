{
 "cells": [
  {
   "cell_type": "markdown",
   "metadata": {},
   "source": [
    "# Data Preprocessing: Save data for analysis\n",
    "\n",
    "Previous steps shown that raw data that were collected from the Internet, need some initial pre-processing before analysis. It includes limiting data to only records that will be analyzed, removing outliers and adding some frequently used columns.\n",
    "\n",
    "What is more, datasets with aggregated daily and hourly values will be calculated and saved to avoid doing the same operation multiple times in the future."
   ]
  },
  {
   "cell_type": "code",
   "execution_count": null,
   "metadata": {
    "collapsed": true
   },
   "outputs": [],
   "source": [
    "import os\n",
    "os.chdir('..')"
   ]
  },
  {
   "cell_type": "code",
   "execution_count": 1,
   "metadata": {
    "collapsed": true
   },
   "outputs": [],
   "source": [
    "import pandas as pd\n",
    "import numpy as np\n",
    "import functions as f"
   ]
  },
  {
   "cell_type": "code",
   "execution_count": 6,
   "metadata": {
    "collapsed": false
   },
   "outputs": [],
   "source": [
    "df_rentals = pd.read_parquet('data/db_rentals.parquet')"
   ]
  },
  {
   "cell_type": "code",
   "execution_count": 2,
   "metadata": {
    "collapsed": false
   },
   "outputs": [
    {
     "name": "stderr",
     "output_type": "stream",
     "text": [
      "C:\\Users\\Klaudia\\Anaconda3\\envs\\bikerental\\lib\\site-packages\\pyarrow\\pandas_compat.py:708: FutureWarning: .labels was deprecated in version 0.24.0. Use .codes instead.\n",
      "  labels = getattr(columns, 'labels', None) or [\n",
      "C:\\Users\\Klaudia\\Anaconda3\\envs\\bikerental\\lib\\site-packages\\pyarrow\\pandas_compat.py:735: FutureWarning: the 'labels' keyword is deprecated, use 'codes' instead\n",
      "  return pd.MultiIndex(levels=new_levels, labels=labels, names=columns.names)\n",
      "C:\\Users\\Klaudia\\Anaconda3\\envs\\bikerental\\lib\\site-packages\\pyarrow\\pandas_compat.py:752: FutureWarning: .labels was deprecated in version 0.24.0. Use .codes instead.\n",
      "  labels, = index.labels\n"
     ]
    }
   ],
   "source": [
    "df_distance = pd.read_parquet('data/db_stations_distance.parquet')"
   ]
  },
  {
   "cell_type": "code",
   "execution_count": 3,
   "metadata": {
    "collapsed": false
   },
   "outputs": [],
   "source": [
    "df_weather = pd.read_parquet('data/db_weather.parquet')"
   ]
  },
  {
   "cell_type": "markdown",
   "metadata": {},
   "source": [
    "## Subset of data for analysis\n",
    "\n",
    "The subset will include data limited to years 2015-2018, only from Washington D.C. The dataset will be enhanced with information about the distance and speed of ride."
   ]
  },
  {
   "cell_type": "code",
   "execution_count": 7,
   "metadata": {
    "collapsed": false
   },
   "outputs": [],
   "source": [
    "df_subset = df_rentals.copy()\n",
    "df_subset['year'] = df_subset['start_date'].dt.year"
   ]
  },
  {
   "cell_type": "code",
   "execution_count": 8,
   "metadata": {
    "collapsed": false
   },
   "outputs": [],
   "source": [
    "df_subset = df_subset[(df_subset['year']>=2015) & (df_subset['year']<=2018) & (df_subset['city']=='D.C.') & (df_subset['member_type'].isin(['Member', 'Casual']))].reset_index(drop=True)"
   ]
  },
  {
   "cell_type": "code",
   "execution_count": 8,
   "metadata": {
    "collapsed": false
   },
   "outputs": [],
   "source": [
    "df_subset['year_month'] = df_subset['start_date'].dt.to_period('M')\n",
    "df_subset['year_month'] = pd.PeriodIndex(df_subset['year_month']).to_timestamp()\n",
    "df_subset['month'] = df_subset['start_date'].dt.month\n",
    "df_subset['weekday'] = df_subset['start_date'].dt.weekday"
   ]
  },
  {
   "cell_type": "code",
   "execution_count": 9,
   "metadata": {
    "collapsed": false
   },
   "outputs": [],
   "source": [
    "df_subset = df_subset.merge(df_distance, how='left', left_on=['start_station_id', 'end_station_id'], right_on=['station_a', 'station_b'])"
   ]
  },
  {
   "cell_type": "code",
   "execution_count": 10,
   "metadata": {
    "collapsed": false
   },
   "outputs": [],
   "source": [
    "drop_cols = [c for c in df_subset.columns if '_a' in c or '_b' in c]\n",
    "df_subset = df_subset.drop(drop_cols, axis=1)\n",
    "df_subset['speed'] = df_subset['distance'] / (df_subset['duration']/3600)"
   ]
  },
  {
   "cell_type": "code",
   "execution_count": 14,
   "metadata": {
    "collapsed": false
   },
   "outputs": [
    {
     "data": {
      "text/html": [
       "<div>\n",
       "<style scoped>\n",
       "    .dataframe tbody tr th:only-of-type {\n",
       "        vertical-align: middle;\n",
       "    }\n",
       "\n",
       "    .dataframe tbody tr th {\n",
       "        vertical-align: top;\n",
       "    }\n",
       "\n",
       "    .dataframe thead th {\n",
       "        text-align: right;\n",
       "    }\n",
       "</style>\n",
       "<table border=\"1\" class=\"dataframe\">\n",
       "  <thead>\n",
       "    <tr style=\"text-align: right;\">\n",
       "      <th></th>\n",
       "      <th>rental_id</th>\n",
       "      <th>start_date</th>\n",
       "      <th>end_date</th>\n",
       "      <th>start_station_id</th>\n",
       "      <th>end_station_id</th>\n",
       "      <th>bike_id</th>\n",
       "      <th>member_type</th>\n",
       "      <th>duration</th>\n",
       "      <th>city</th>\n",
       "      <th>year</th>\n",
       "      <th>year_month</th>\n",
       "      <th>month</th>\n",
       "      <th>weekday</th>\n",
       "      <th>distance</th>\n",
       "      <th>speed</th>\n",
       "    </tr>\n",
       "  </thead>\n",
       "  <tbody>\n",
       "    <tr>\n",
       "      <th>4843289</th>\n",
       "      <td>14338403</td>\n",
       "      <td>2016-09-09 08:20:18</td>\n",
       "      <td>2016-09-09 08:39:31</td>\n",
       "      <td>31802</td>\n",
       "      <td>31641</td>\n",
       "      <td>W21599</td>\n",
       "      <td>Member</td>\n",
       "      <td>1153</td>\n",
       "      <td>D.C.</td>\n",
       "      <td>2016</td>\n",
       "      <td>2016-09-01</td>\n",
       "      <td>9</td>\n",
       "      <td>4</td>\n",
       "      <td>3.332121</td>\n",
       "      <td>10.403846</td>\n",
       "    </tr>\n",
       "    <tr>\n",
       "      <th>78581</th>\n",
       "      <td>8927427</td>\n",
       "      <td>2015-01-22 17:38:19</td>\n",
       "      <td>2015-01-22 18:00:28</td>\n",
       "      <td>31511</td>\n",
       "      <td>31245</td>\n",
       "      <td>W20689</td>\n",
       "      <td>Member</td>\n",
       "      <td>1328</td>\n",
       "      <td>D.C.</td>\n",
       "      <td>2015</td>\n",
       "      <td>2015-01-01</td>\n",
       "      <td>1</td>\n",
       "      <td>3</td>\n",
       "      <td>3.232119</td>\n",
       "      <td>8.761768</td>\n",
       "    </tr>\n",
       "    <tr>\n",
       "      <th>1459222</th>\n",
       "      <td>10487884</td>\n",
       "      <td>2015-07-20 15:27:23</td>\n",
       "      <td>2015-07-20 15:40:20</td>\n",
       "      <td>31236</td>\n",
       "      <td>31236</td>\n",
       "      <td>W21373</td>\n",
       "      <td>Member</td>\n",
       "      <td>776</td>\n",
       "      <td>D.C.</td>\n",
       "      <td>2015</td>\n",
       "      <td>2015-07-01</td>\n",
       "      <td>7</td>\n",
       "      <td>0</td>\n",
       "      <td>NaN</td>\n",
       "      <td>NaN</td>\n",
       "    </tr>\n",
       "  </tbody>\n",
       "</table>\n",
       "</div>"
      ],
      "text/plain": [
       "         rental_id          start_date            end_date  start_station_id  \\\n",
       "4843289   14338403 2016-09-09 08:20:18 2016-09-09 08:39:31             31802   \n",
       "78581      8927427 2015-01-22 17:38:19 2015-01-22 18:00:28             31511   \n",
       "1459222   10487884 2015-07-20 15:27:23 2015-07-20 15:40:20             31236   \n",
       "\n",
       "         end_station_id bike_id member_type  duration  city  year year_month  \\\n",
       "4843289           31641  W21599      Member      1153  D.C.  2016 2016-09-01   \n",
       "78581             31245  W20689      Member      1328  D.C.  2015 2015-01-01   \n",
       "1459222           31236  W21373      Member       776  D.C.  2015 2015-07-01   \n",
       "\n",
       "         month  weekday  distance      speed  \n",
       "4843289      9        4  3.332121  10.403846  \n",
       "78581        1        3  3.232119   8.761768  \n",
       "1459222      7        0       NaN        NaN  "
      ]
     },
     "execution_count": 14,
     "metadata": {},
     "output_type": "execute_result"
    }
   ],
   "source": [
    "df_subset.sample(3)"
   ]
  },
  {
   "cell_type": "code",
   "execution_count": 15,
   "metadata": {
    "collapsed": false
   },
   "outputs": [],
   "source": [
    "#Remove speed outliers according to the analysis\n",
    "# 1st step - divide by long and short rides\n",
    "\n",
    "upper_z = df_subset['duration'].mean() + 3 * df_subset['duration'].std()\n",
    "df_subset['ride_length'] = 'normal'\n",
    "df_subset.loc[df_subset['duration']>upper_z, 'ride_length'] = 'long'\n",
    "\n",
    "df_subset.loc[df_subset['ride_length']=='long', ['distance', 'speed']] = np.nan"
   ]
  },
  {
   "cell_type": "code",
   "execution_count": 16,
   "metadata": {
    "collapsed": false
   },
   "outputs": [],
   "source": [
    "# 2nd step - remove speedy rides\n",
    "# put this function to functions file\n",
    "\n",
    "def remove_station_rides(df, station_id, min_date='1990-01-01'):\n",
    "    df.loc[(df['start_station_id']==station_id) | (df['end_station_id']==station_id) & (df['start_date']<min_date), ['distance', 'speed']] = np.nan\n",
    "    return df\n",
    "\n",
    "df_subset = remove_station_rides(df_subset, 31064)\n",
    "df_subset = remove_station_rides(df_subset, 31062)\n",
    "df_subset = remove_station_rides(df_subset, 31262, '2013-01-01')\n",
    "df_subset = remove_station_rides(df_subset, 32006, '2013-09-01')\n",
    "df_subset = remove_station_rides(df_subset, 31062, '2013-09-01')\n",
    "df_subset = remove_station_rides(df_subset, 31052, '2012-01-01')\n",
    "df_subset = remove_station_rides(df_subset, 31266, '2013-01-01')"
   ]
  },
  {
   "cell_type": "code",
   "execution_count": 17,
   "metadata": {
    "collapsed": false
   },
   "outputs": [],
   "source": [
    "speedy_dates = f.round_byTime(df_subset[df_subset['speed']>25], 'D').sort_values(by='rentals_count', ascending=False)\n",
    "            \n",
    "dates = np.array(speedy_dates[speedy_dates['rentals_count']>10]['start_date'].values, dtype='datetime64[D]')\n",
    "df_subset['date'] = df_subset['start_date'].dt.date\n",
    "df_subset.loc[df_subset['date'].isin(dates), ['distance', 'speed']] = np.nan\n",
    "\n",
    "df_subset.loc[df_subset['speed']>40, ['distance', 'speed']] = np.nan"
   ]
  },
  {
   "cell_type": "code",
   "execution_count": 18,
   "metadata": {
    "collapsed": false
   },
   "outputs": [
    {
     "name": "stdout",
     "output_type": "stream",
     "text": [
      "<class 'pandas.core.frame.DataFrame'>\n",
      "Int64Index: 12123932 entries, 0 to 12123931\n",
      "Data columns (total 17 columns):\n",
      "rental_id           int64\n",
      "start_date          datetime64[ns]\n",
      "end_date            datetime64[ns]\n",
      "start_station_id    int64\n",
      "end_station_id      int64\n",
      "bike_id             object\n",
      "member_type         object\n",
      "duration            int64\n",
      "city                object\n",
      "year                int64\n",
      "year_month          datetime64[ns]\n",
      "month               int64\n",
      "weekday             int64\n",
      "distance            float64\n",
      "speed               float64\n",
      "ride_length         object\n",
      "date                object\n",
      "dtypes: datetime64[ns](3), float64(2), int64(7), object(5)\n",
      "memory usage: 1.6+ GB\n"
     ]
    }
   ],
   "source": [
    "df_subset.info()"
   ]
  },
  {
   "cell_type": "code",
   "execution_count": 19,
   "metadata": {
    "collapsed": false
   },
   "outputs": [],
   "source": [
    "df_subset.to_parquet('data/data_bikerental.parquet', index=False)"
   ]
  },
  {
   "cell_type": "code",
   "execution_count": null,
   "metadata": {
    "collapsed": true
   },
   "outputs": [],
   "source": []
  },
  {
   "cell_type": "markdown",
   "metadata": {},
   "source": [
    "## Weather data cleanup"
   ]
  },
  {
   "cell_type": "code",
   "execution_count": 17,
   "metadata": {
    "collapsed": true
   },
   "outputs": [],
   "source": [
    "df_weather = df_weather[df_weather['temperature']<45]\n",
    "df_weather = df_weather[df_weather['wind']<400]"
   ]
  },
  {
   "cell_type": "code",
   "execution_count": 18,
   "metadata": {
    "collapsed": false
   },
   "outputs": [
    {
     "name": "stderr",
     "output_type": "stream",
     "text": [
      "C:\\Users\\Klaudia\\Anaconda3\\envs\\bikerental\\lib\\site-packages\\pyarrow\\pandas_compat.py:114: FutureWarning: A future version of pandas will default to `skipna=True`. To silence this warning, pass `skipna=True|False` explicitly.\n",
      "  result = infer_dtype(pandas_collection)\n"
     ]
    }
   ],
   "source": [
    "df_weather.to_parquet('data/data_weather.parquet')"
   ]
  },
  {
   "cell_type": "code",
   "execution_count": null,
   "metadata": {
    "collapsed": true
   },
   "outputs": [],
   "source": []
  },
  {
   "cell_type": "markdown",
   "metadata": {},
   "source": [
    "## Hourly data\n",
    "\n",
    "Group bike rentals data by hour and combine it with information about the weather."
   ]
  },
  {
   "cell_type": "code",
   "execution_count": 19,
   "metadata": {
    "collapsed": false
   },
   "outputs": [
    {
     "data": {
      "text/html": [
       "<div>\n",
       "<style scoped>\n",
       "    .dataframe tbody tr th:only-of-type {\n",
       "        vertical-align: middle;\n",
       "    }\n",
       "\n",
       "    .dataframe tbody tr th {\n",
       "        vertical-align: top;\n",
       "    }\n",
       "\n",
       "    .dataframe thead th {\n",
       "        text-align: right;\n",
       "    }\n",
       "</style>\n",
       "<table border=\"1\" class=\"dataframe\">\n",
       "  <thead>\n",
       "    <tr style=\"text-align: right;\">\n",
       "      <th></th>\n",
       "      <th>datetime</th>\n",
       "      <th>date</th>\n",
       "      <th>time</th>\n",
       "      <th>temperature</th>\n",
       "      <th>relative_temperature</th>\n",
       "      <th>wind</th>\n",
       "      <th>relative_humidity</th>\n",
       "      <th>pressure</th>\n",
       "      <th>clouds</th>\n",
       "      <th>rain</th>\n",
       "      <th>snow</th>\n",
       "      <th>thunder</th>\n",
       "      <th>datetime_round</th>\n",
       "    </tr>\n",
       "  </thead>\n",
       "  <tbody>\n",
       "    <tr>\n",
       "      <th>51991</th>\n",
       "      <td>2016-02-12 19:52:00</td>\n",
       "      <td>2016-02-12</td>\n",
       "      <td>19:52</td>\n",
       "      <td>-2</td>\n",
       "      <td>-5</td>\n",
       "      <td>150</td>\n",
       "      <td>0.51</td>\n",
       "      <td>1016</td>\n",
       "      <td>cloudy</td>\n",
       "      <td>0</td>\n",
       "      <td>0</td>\n",
       "      <td>0</td>\n",
       "      <td>2016-02-12 20:00:00</td>\n",
       "    </tr>\n",
       "    <tr>\n",
       "      <th>34291</th>\n",
       "      <td>2014-06-30 14:52:00</td>\n",
       "      <td>2014-06-30</td>\n",
       "      <td>14:52</td>\n",
       "      <td>31</td>\n",
       "      <td>32</td>\n",
       "      <td>170</td>\n",
       "      <td>0.49</td>\n",
       "      <td>1016</td>\n",
       "      <td>partly cloudy</td>\n",
       "      <td>0</td>\n",
       "      <td>0</td>\n",
       "      <td>0</td>\n",
       "      <td>2014-06-30 15:00:00</td>\n",
       "    </tr>\n",
       "    <tr>\n",
       "      <th>46219</th>\n",
       "      <td>2015-08-05 16:52:00</td>\n",
       "      <td>2015-08-05</td>\n",
       "      <td>16:52</td>\n",
       "      <td>34</td>\n",
       "      <td>33</td>\n",
       "      <td>290</td>\n",
       "      <td>0.30</td>\n",
       "      <td>1013</td>\n",
       "      <td>partly cloudy</td>\n",
       "      <td>0</td>\n",
       "      <td>0</td>\n",
       "      <td>0</td>\n",
       "      <td>2015-08-05 17:00:00</td>\n",
       "    </tr>\n",
       "  </tbody>\n",
       "</table>\n",
       "</div>"
      ],
      "text/plain": [
       "                 datetime       date   time  temperature  \\\n",
       "51991 2016-02-12 19:52:00 2016-02-12  19:52           -2   \n",
       "34291 2014-06-30 14:52:00 2014-06-30  14:52           31   \n",
       "46219 2015-08-05 16:52:00 2015-08-05  16:52           34   \n",
       "\n",
       "       relative_temperature  wind  relative_humidity  pressure         clouds  \\\n",
       "51991                    -5   150               0.51      1016         cloudy   \n",
       "34291                    32   170               0.49      1016  partly cloudy   \n",
       "46219                    33   290               0.30      1013  partly cloudy   \n",
       "\n",
       "       rain  snow  thunder      datetime_round  \n",
       "51991     0     0        0 2016-02-12 20:00:00  \n",
       "34291     0     0        0 2014-06-30 15:00:00  \n",
       "46219     0     0        0 2015-08-05 17:00:00  "
      ]
     },
     "execution_count": 19,
     "metadata": {},
     "output_type": "execute_result"
    }
   ],
   "source": [
    "df_weather['datetime_round'] = df_weather['datetime'].dt.round(freq='H')\n",
    "df_weather.sample(3)"
   ]
  },
  {
   "cell_type": "code",
   "execution_count": 20,
   "metadata": {
    "collapsed": true
   },
   "outputs": [],
   "source": [
    "df_rentals = df_rentals[(df_rentals['city']=='D.C.') & (df_rentals['member_type']!='Unknown')]"
   ]
  },
  {
   "cell_type": "code",
   "execution_count": 21,
   "metadata": {
    "collapsed": false
   },
   "outputs": [],
   "source": [
    "df_hourly = f.round_byTime(df_rentals, 'H') \\\n",
    "            .merge(df_weather, how='left', left_on='start_date', right_on='datetime_round') \\\n",
    "            .drop(['datetime', 'time', 'datetime_round'], axis=1)\n",
    "        \n",
    "df_hourly_byMember = f.round_byTime(df_rentals, 'H', other_cols=['member_type']) \\\n",
    "            .merge(df_weather, how='left', left_on='start_date', right_on='datetime_round') \\\n",
    "            .drop(['datetime', 'time', 'datetime_round'], axis=1)"
   ]
  },
  {
   "cell_type": "code",
   "execution_count": 22,
   "metadata": {
    "collapsed": false
   },
   "outputs": [
    {
     "name": "stdout",
     "output_type": "stream",
     "text": [
      "<class 'pandas.core.frame.DataFrame'>\n",
      "Int64Index: 88190 entries, 0 to 88189\n",
      "Data columns (total 13 columns):\n",
      "start_date              88190 non-null datetime64[ns]\n",
      "rentals_count           88190 non-null int64\n",
      "avg_duration            87285 non-null float64\n",
      "date                    85023 non-null datetime64[ns]\n",
      "temperature             85023 non-null float64\n",
      "relative_temperature    85023 non-null float64\n",
      "wind                    85023 non-null float64\n",
      "relative_humidity       85023 non-null float64\n",
      "pressure                85023 non-null float64\n",
      "clouds                  85023 non-null object\n",
      "rain                    85023 non-null float64\n",
      "snow                    85023 non-null float64\n",
      "thunder                 85023 non-null float64\n",
      "dtypes: datetime64[ns](2), float64(9), int64(1), object(1)\n",
      "memory usage: 9.4+ MB\n"
     ]
    }
   ],
   "source": [
    "df_hourly.info()"
   ]
  },
  {
   "cell_type": "code",
   "execution_count": 23,
   "metadata": {
    "collapsed": false
   },
   "outputs": [],
   "source": [
    "df_hourly.to_parquet('data/data_hourly.parquet', index=False)\n",
    "df_hourly_byMember.to_parquet('data/data_hourly_byMember.parquet', index=False)"
   ]
  },
  {
   "cell_type": "markdown",
   "metadata": {},
   "source": [
    "## Data daily"
   ]
  },
  {
   "cell_type": "code",
   "execution_count": 24,
   "metadata": {
    "collapsed": false
   },
   "outputs": [],
   "source": [
    "df_daily = f.round_byTime(df_rentals, 'D')\n",
    "df_daily_byMember = f.round_byTime(df_rentals, 'D', other_cols=['member_type'])"
   ]
  },
  {
   "cell_type": "code",
   "execution_count": 25,
   "metadata": {
    "collapsed": false
   },
   "outputs": [
    {
     "name": "stdout",
     "output_type": "stream",
     "text": [
      "<class 'pandas.core.frame.DataFrame'>\n",
      "RangeIndex: 3084 entries, 0 to 3083\n",
      "Data columns (total 3 columns):\n",
      "start_date       3084 non-null datetime64[ns]\n",
      "rentals_count    3084 non-null int64\n",
      "avg_duration     3080 non-null float64\n",
      "dtypes: datetime64[ns](1), float64(1), int64(1)\n",
      "memory usage: 72.4 KB\n"
     ]
    }
   ],
   "source": [
    "df_daily.info()"
   ]
  },
  {
   "cell_type": "code",
   "execution_count": 26,
   "metadata": {
    "collapsed": true
   },
   "outputs": [],
   "source": [
    "df_daily.to_parquet('data/data_daily.parquet', index=False)\n",
    "df_daily_byMember.to_parquet('data/data_daily_byMember.parquet', index=False)"
   ]
  },
  {
   "cell_type": "code",
   "execution_count": null,
   "metadata": {
    "collapsed": true
   },
   "outputs": [],
   "source": []
  }
 ],
 "metadata": {
  "kernelspec": {
   "display_name": "Bike Rental",
   "language": "python",
   "name": "bikerental"
  },
  "language_info": {
   "codemirror_mode": {
    "name": "ipython",
    "version": 3
   },
   "file_extension": ".py",
   "mimetype": "text/x-python",
   "name": "python",
   "nbconvert_exporter": "python",
   "pygments_lexer": "ipython3",
   "version": "3.7.3"
  }
 },
 "nbformat": 4,
 "nbformat_minor": 2
}
